{
  "nbformat": 4,
  "nbformat_minor": 0,
  "metadata": {
    "kernelspec": {
      "name": "python3",
      "display_name": "Python 3"
    },
    "language_info": {
      "codemirror_mode": {
        "name": "ipython",
        "version": 3
      },
      "file_extension": ".py",
      "mimetype": "text/x-python",
      "name": "python",
      "nbconvert_exporter": "python",
      "pygments_lexer": "ipython3",
      "version": "3.6.6"
    },
    "colab": {
      "name": "12_final.ipynb",
      "provenance": [],
      "collapsed_sections": [],
      "toc_visible": true,
      "machine_shape": "hm"
    },
    "accelerator": "GPU"
  },
  "cells": [
    {
      "cell_type": "markdown",
      "metadata": {
        "id": "Vhku5BCPlxmL",
        "colab_type": "text"
      },
      "source": [
        "##### Installing latest version of albumentation because old code doesn't has Coarseout"
      ]
    },
    {
      "cell_type": "code",
      "metadata": {
        "id": "3-r-5U6BRKx4",
        "colab_type": "code",
        "colab": {}
      },
      "source": [
        "# For increasing RAM\n",
        "# a = []\n",
        "# while(1):\n",
        "#   a.append('1')"
      ],
      "execution_count": 0,
      "outputs": []
    },
    {
      "cell_type": "code",
      "metadata": {
        "id": "P92-nBDfeewm",
        "colab_type": "code",
        "outputId": "0e1c1780-c0ee-4a32-c627-3e880f34a8b8",
        "colab": {
          "base_uri": "https://localhost:8080/",
          "height": 122
        }
      },
      "source": [
        "from google.colab import drive\n",
        "drive.mount('/content/drive')"
      ],
      "execution_count": 1,
      "outputs": [
        {
          "output_type": "stream",
          "text": [
            "Go to this URL in a browser: https://accounts.google.com/o/oauth2/auth?client_id=947318989803-6bn6qk8qdgf4n4g3pfee6491hc0brc4i.apps.googleusercontent.com&redirect_uri=urn%3aietf%3awg%3aoauth%3a2.0%3aoob&response_type=code&scope=email%20https%3a%2f%2fwww.googleapis.com%2fauth%2fdocs.test%20https%3a%2f%2fwww.googleapis.com%2fauth%2fdrive%20https%3a%2f%2fwww.googleapis.com%2fauth%2fdrive.photos.readonly%20https%3a%2f%2fwww.googleapis.com%2fauth%2fpeopleapi.readonly\n",
            "\n",
            "Enter your authorization code:\n",
            "··········\n",
            "Mounted at /content/drive\n"
          ],
          "name": "stdout"
        }
      ]
    },
    {
      "cell_type": "code",
      "metadata": {
        "id": "QVbdg0z4poCc",
        "colab_type": "code",
        "colab": {}
      },
      "source": [
        "%matplotlib inline"
      ],
      "execution_count": 0,
      "outputs": []
    },
    {
      "cell_type": "markdown",
      "metadata": {
        "id": "49HmRteoDMJR",
        "colab_type": "text"
      },
      "source": [
        "### Importing Libraries"
      ]
    },
    {
      "cell_type": "code",
      "metadata": {
        "id": "lKdepv2N9-s-",
        "colab_type": "code",
        "colab": {
          "base_uri": "https://localhost:8080/",
          "height": 181
        },
        "outputId": "041642d3-60cc-4d63-bd9c-1db6f655bae5"
      },
      "source": [
        "# Changing working directory\n",
        "import os\n",
        "os.chdir('./drive/My Drive/EVA4/assignment12/')"
      ],
      "execution_count": 4,
      "outputs": [
        {
          "output_type": "error",
          "ename": "FileNotFoundError",
          "evalue": "ignored",
          "traceback": [
            "\u001b[0;31m---------------------------------------------------------------------------\u001b[0m",
            "\u001b[0;31mFileNotFoundError\u001b[0m                         Traceback (most recent call last)",
            "\u001b[0;32m<ipython-input-4-d0dee4381cf9>\u001b[0m in \u001b[0;36m<module>\u001b[0;34m()\u001b[0m\n\u001b[1;32m      1\u001b[0m \u001b[0;32mimport\u001b[0m \u001b[0mos\u001b[0m\u001b[0;34m\u001b[0m\u001b[0;34m\u001b[0m\u001b[0m\n\u001b[0;32m----> 2\u001b[0;31m \u001b[0mos\u001b[0m\u001b[0;34m.\u001b[0m\u001b[0mchdir\u001b[0m\u001b[0;34m(\u001b[0m\u001b[0;34m'./drive/My Drive/EVA4/assignment12/'\u001b[0m\u001b[0;34m)\u001b[0m\u001b[0;34m\u001b[0m\u001b[0;34m\u001b[0m\u001b[0m\n\u001b[0m",
            "\u001b[0;31mFileNotFoundError\u001b[0m: [Errno 2] No such file or directory: './drive/My Drive/EVA4/assignment12/'"
          ]
        }
      ]
    },
    {
      "cell_type": "code",
      "metadata": {
        "id": "st6S_dplXjYT",
        "colab_type": "code",
        "outputId": "2856083a-5ecd-4468-bfc4-7a8c54c6e4ec",
        "colab": {
          "base_uri": "https://localhost:8080/",
          "height": 34
        }
      },
      "source": [
        "!pwd"
      ],
      "execution_count": 5,
      "outputs": [
        {
          "output_type": "stream",
          "text": [
            "/content/drive/My Drive/EVA4/assignment12\n"
          ],
          "name": "stdout"
        }
      ]
    },
    {
      "cell_type": "code",
      "metadata": {
        "id": "ee-P_IbPbKt2",
        "colab_type": "code",
        "colab": {}
      },
      "source": [
        "from download import download_image, segregate"
      ],
      "execution_count": 0,
      "outputs": []
    },
    {
      "cell_type": "code",
      "metadata": {
        "id": "ZrFaeGwAyccB",
        "colab_type": "code",
        "outputId": "955d4c84-ae59-40cf-8f65-f2e06e611325",
        "colab": {
          "base_uri": "https://localhost:8080/",
          "height": 173
        }
      },
      "source": [
        "# !pip install wget"
      ],
      "execution_count": 0,
      "outputs": [
        {
          "output_type": "stream",
          "text": [
            "Collecting wget\n",
            "  Downloading https://files.pythonhosted.org/packages/47/6a/62e288da7bcda82b935ff0c6cfe542970f04e29c756b0e147251b2fb251f/wget-3.2.zip\n",
            "Building wheels for collected packages: wget\n",
            "  Building wheel for wget (setup.py) ... \u001b[?25l\u001b[?25hdone\n",
            "  Created wheel for wget: filename=wget-3.2-cp36-none-any.whl size=9682 sha256=7233ce9f9195cde1917f46812ee11ee5d0b2d682e8a2de7e2e5e9e35377f56ae\n",
            "  Stored in directory: /root/.cache/pip/wheels/40/15/30/7d8f7cea2902b4db79e3fea550d7d7b85ecb27ef992b618f3f\n",
            "Successfully built wget\n",
            "Installing collected packages: wget\n",
            "Successfully installed wget-3.2\n"
          ],
          "name": "stdout"
        }
      ]
    },
    {
      "cell_type": "code",
      "metadata": {
        "id": "ct63-iFl8wR5",
        "colab_type": "code",
        "outputId": "23063385-c29c-4314-c38e-45fd028ad7b7",
        "colab": {
          "base_uri": "https://localhost:8080/",
          "height": 34
        }
      },
      "source": [
        "os.getcwd()"
      ],
      "execution_count": 9,
      "outputs": [
        {
          "output_type": "execute_result",
          "data": {
            "text/plain": [
              "'/content/drive/My Drive/EVA4/assignment12'"
            ]
          },
          "metadata": {
            "tags": []
          },
          "execution_count": 9
        }
      ]
    },
    {
      "cell_type": "code",
      "metadata": {
        "id": "-9WH0PnHb8Vb",
        "colab_type": "code",
        "outputId": "23486713-a0b2-4006-eae6-bad4490e2732",
        "colab": {
          "base_uri": "https://localhost:8080/",
          "height": 85
        }
      },
      "source": [
        "%%time\n",
        "download_image(\"http://cs231n.stanford.edu/tiny-imagenet-200.zip\")\n",
        "segregate()"
      ],
      "execution_count": 12,
      "outputs": [
        {
          "output_type": "stream",
          "text": [
            "Downloadinghttp://cs231n.stanford.edu/tiny-imagenet-200.zip\n"
          ],
          "name": "stdout"
        },
        {
          "output_type": "stream",
          "text": [
            "[========================================================================] 100%\n"
          ],
          "name": "stderr"
        },
        {
          "output_type": "stream",
          "text": [
            "CPU times: user 1min 38s, sys: 2min 37s, total: 4min 15s\n",
            "Wall time: 46min 10s\n"
          ],
          "name": "stdout"
        }
      ]
    },
    {
      "cell_type": "code",
      "metadata": {
        "id": "-yVpodAMpoCi",
        "colab_type": "code",
        "colab": {}
      },
      "source": [
        "import torch\n",
        "import torchvision\n",
        "import torchvision.transforms as transforms\n",
        "# from gradcam import *\n",
        "\n",
        "import torch.nn as nn\n",
        "import torch.nn.functional as F\n",
        "\n",
        "import torch.optim as optim\n",
        "\n",
        "import matplotlib.pyplot as plt\n",
        "import numpy as np\n",
        "import math\n",
        "\n",
        "from dataset import Data\n",
        "from model import ResNet18"
      ],
      "execution_count": 0,
      "outputs": []
    },
    {
      "cell_type": "markdown",
      "metadata": {
        "id": "iFbMx8orDQhc",
        "colab_type": "text"
      },
      "source": [
        "### Downloading train and test dataset using (dataset) module"
      ]
    },
    {
      "cell_type": "code",
      "metadata": {
        "id": "HyWwF91nwH-e",
        "colab_type": "code",
        "colab": {}
      },
      "source": [
        "import torch, os\n",
        "import torch.nn as nn\n",
        "import torch.optim as optim\n",
        "import torchvision.datasets as datasets\n",
        "import torch.utils.data as data\n",
        "import torchvision.transforms as transforms\n",
        "import torchvision.models as models"
      ],
      "execution_count": 0,
      "outputs": []
    },
    {
      "cell_type": "code",
      "metadata": {
        "id": "jdXXSBpXDlN-",
        "colab_type": "code",
        "outputId": "df76886e-9022-4500-e7b6-c6915288566d",
        "colab": {
          "base_uri": "https://localhost:8080/",
          "height": 85
        }
      },
      "source": [
        "%%time\n",
        "data = Data()\n",
        "trainset = data.getTrainDataSet()\n",
        "testset = data.getTestDataSet()"
      ],
      "execution_count": 15,
      "outputs": [
        {
          "output_type": "stream",
          "text": [
            "Train Data Size :  77000\n",
            "Train Data Size :  33000\n",
            "CPU times: user 500 ms, sys: 0 ns, total: 500 ms\n",
            "Wall time: 1.68 s\n"
          ],
          "name": "stdout"
        }
      ]
    },
    {
      "cell_type": "markdown",
      "metadata": {
        "id": "4E9XgV-zDyTJ",
        "colab_type": "text"
      },
      "source": [
        "### Creating Test/Train Dataloaders, another train and test loaders to visualise image and gradcam loader which will be used in visualising images using GradCAM"
      ]
    },
    {
      "cell_type": "code",
      "metadata": {
        "id": "V6y0jE78D0WT",
        "colab_type": "code",
        "colab": {}
      },
      "source": [
        "train_loader = data.getDataLoader(dataset=trainset,batches=256)\n",
        "# val_loader = data.getDataLoader(valset, 64)\n",
        "test_loader = data.getDataLoader(testset,256)\n",
        "img_train_loader = data.getDataLoader(trainset,4)\n",
        "# img_val_loader = data.getDataLoader(valset, 4)\n",
        "img_test_loader = data.getDataLoader(testset,4)\n",
        "test_grad_loader = data.getDataLoader(testset,1)\n",
        "\n",
        "# classes = ('plane', 'car', 'bird', 'cat',\n",
        "#            'deer', 'dog', 'frog', 'horse', 'ship', 'truck')"
      ],
      "execution_count": 0,
      "outputs": []
    },
    {
      "cell_type": "markdown",
      "metadata": {
        "id": "_cj433rtpoCn",
        "colab_type": "text"
      },
      "source": [
        "#### Visualizing images\n",
        "\n"
      ]
    },
    {
      "cell_type": "code",
      "metadata": {
        "id": "daA7bADhpoCo",
        "colab_type": "code",
        "outputId": "0580d20e-aba0-4473-d113-33eea4cd1cf2",
        "colab": {
          "base_uri": "https://localhost:8080/",
          "height": 171
        }
      },
      "source": [
        "from general_utils import imshow\n",
        "\n",
        "# get some random training images\n",
        "dataiter = iter(img_train_loader)\n",
        "images, labels = dataiter.next()\n",
        "\n",
        "# show images\n",
        "imshow(torchvision.utils.make_grid(images))\n",
        "# print labels\n",
        "print(' '.join('%5s' % (labels[j]) for j in range(4)))"
      ],
      "execution_count": 17,
      "outputs": [
        {
          "output_type": "stream",
          "text": [
            "Clipping input data to the valid range for imshow with RGB data ([0..1] for floats or [0..255] for integers).\n"
          ],
          "name": "stderr"
        },
        {
          "output_type": "stream",
          "text": [
            "tensor(166) tensor(120) tensor(76) tensor(181)\n"
          ],
          "name": "stdout"
        },
        {
          "output_type": "display_data",
          "data": {
            "image/png": "[encoded data removed]",
            "text/plain": [
              "<Figure size 432x288 with 1 Axes>"
            ]
          },
          "metadata": {
            "tags": [],
            "needs_background": "light"
          }
        }
      ]
    },
    {
      "cell_type": "code",
      "metadata": {
        "id": "3tDlUn1q96CJ",
        "colab_type": "code",
        "outputId": "8bd444d3-91bb-4ad6-81b3-4f57a2fe43be",
        "colab": {
          "base_uri": "https://localhost:8080/",
          "height": 154
        }
      },
      "source": [
        "for data, classes in img_train_loader:\n",
        "  out = torchvision.utils.make_grid(data)\n",
        "  imshow(out)\n",
        "  break"
      ],
      "execution_count": 18,
      "outputs": [
        {
          "output_type": "stream",
          "text": [
            "Clipping input data to the valid range for imshow with RGB data ([0..1] for floats or [0..255] for integers).\n"
          ],
          "name": "stderr"
        },
        {
          "output_type": "display_data",
          "data": {
            "image/png": "[encoded data removed]",
            "text/plain": [
              "<Figure size 432x288 with 1 Axes>"
            ]
          },
          "metadata": {
            "tags": [],
            "needs_background": "light"
          }
        }
      ]
    },
    {
      "cell_type": "markdown",
      "metadata": {
        "id": "b6wpQbRGHh_O",
        "colab_type": "text"
      },
      "source": [
        "### Model Parameters"
      ]
    },
    {
      "cell_type": "code",
      "metadata": {
        "id": "Oy3eIhtWHhmu",
        "colab_type": "code",
        "outputId": "3f57d56f-f81e-4dc2-8559-530c7c6166ec",
        "colab": {
          "base_uri": "https://localhost:8080/",
          "height": 1000
        }
      },
      "source": [
        "!pip install torchsummary\n",
        "from torchsummary import summary\n",
        "use_cuda = torch.cuda.is_available()\n",
        "device = torch.device(\"cuda\" if use_cuda else \"cpu\")\n",
        "print(device)\n",
        "\n",
        "# netobj = torchvision.models.resnet18(pretrained=False, num_classes=200)\n",
        "netobj = ResNet18()\n",
        "model = netobj.to(device)\n",
        "summary(model, input_size=(3, 64, 64))"
      ],
      "execution_count": 19,
      "outputs": [
        {
          "output_type": "stream",
          "text": [
            "Requirement already satisfied: torchsummary in /usr/local/lib/python3.6/dist-packages (1.5.1)\n",
            "cuda\n",
            "----------------------------------------------------------------\n",
            "        Layer (type)               Output Shape         Param #\n",
            "================================================================\n",
            "            Conv2d-1           [-1, 64, 64, 64]           1,728\n",
            "       BatchNorm2d-2           [-1, 64, 64, 64]             128\n",
            "            Conv2d-3           [-1, 64, 64, 64]          36,864\n",
            "       BatchNorm2d-4           [-1, 64, 64, 64]             128\n",
            "            Conv2d-5           [-1, 64, 64, 64]          36,864\n",
            "       BatchNorm2d-6           [-1, 64, 64, 64]             128\n",
            "        BasicBlock-7           [-1, 64, 64, 64]               0\n",
            "            Conv2d-8           [-1, 64, 64, 64]          36,864\n",
            "       BatchNorm2d-9           [-1, 64, 64, 64]             128\n",
            "           Conv2d-10           [-1, 64, 64, 64]          36,864\n",
            "      BatchNorm2d-11           [-1, 64, 64, 64]             128\n",
            "       BasicBlock-12           [-1, 64, 64, 64]               0\n",
            "           Conv2d-13          [-1, 128, 32, 32]          73,728\n",
            "      BatchNorm2d-14          [-1, 128, 32, 32]             256\n",
            "           Conv2d-15          [-1, 128, 32, 32]         147,456\n",
            "      BatchNorm2d-16          [-1, 128, 32, 32]             256\n",
            "           Conv2d-17          [-1, 128, 32, 32]           8,192\n",
            "      BatchNorm2d-18          [-1, 128, 32, 32]             256\n",
            "       BasicBlock-19          [-1, 128, 32, 32]               0\n",
            "           Conv2d-20          [-1, 128, 32, 32]         147,456\n",
            "      BatchNorm2d-21          [-1, 128, 32, 32]             256\n",
            "           Conv2d-22          [-1, 128, 32, 32]         147,456\n",
            "      BatchNorm2d-23          [-1, 128, 32, 32]             256\n",
            "       BasicBlock-24          [-1, 128, 32, 32]               0\n",
            "           Conv2d-25          [-1, 256, 16, 16]         294,912\n",
            "      BatchNorm2d-26          [-1, 256, 16, 16]             512\n",
            "           Conv2d-27          [-1, 256, 16, 16]         589,824\n",
            "      BatchNorm2d-28          [-1, 256, 16, 16]             512\n",
            "           Conv2d-29          [-1, 256, 16, 16]          32,768\n",
            "      BatchNorm2d-30          [-1, 256, 16, 16]             512\n",
            "       BasicBlock-31          [-1, 256, 16, 16]               0\n",
            "           Conv2d-32          [-1, 256, 16, 16]         589,824\n",
            "      BatchNorm2d-33          [-1, 256, 16, 16]             512\n",
            "           Conv2d-34          [-1, 256, 16, 16]         589,824\n",
            "      BatchNorm2d-35          [-1, 256, 16, 16]             512\n",
            "       BasicBlock-36          [-1, 256, 16, 16]               0\n",
            "           Conv2d-37            [-1, 512, 8, 8]       1,179,648\n",
            "      BatchNorm2d-38            [-1, 512, 8, 8]           1,024\n",
            "           Conv2d-39            [-1, 512, 8, 8]       2,359,296\n",
            "      BatchNorm2d-40            [-1, 512, 8, 8]           1,024\n",
            "           Conv2d-41            [-1, 512, 8, 8]         131,072\n",
            "      BatchNorm2d-42            [-1, 512, 8, 8]           1,024\n",
            "       BasicBlock-43            [-1, 512, 8, 8]               0\n",
            "           Conv2d-44            [-1, 512, 8, 8]       2,359,296\n",
            "      BatchNorm2d-45            [-1, 512, 8, 8]           1,024\n",
            "           Conv2d-46            [-1, 512, 8, 8]       2,359,296\n",
            "      BatchNorm2d-47            [-1, 512, 8, 8]           1,024\n",
            "       BasicBlock-48            [-1, 512, 8, 8]               0\n",
            "           Linear-49                  [-1, 200]         102,600\n",
            "================================================================\n",
            "Total params: 11,271,432\n",
            "Trainable params: 11,271,432\n",
            "Non-trainable params: 0\n",
            "----------------------------------------------------------------\n",
            "Input size (MB): 0.05\n",
            "Forward/backward pass size (MB): 45.00\n",
            "Params size (MB): 43.00\n",
            "Estimated Total Size (MB): 88.05\n",
            "----------------------------------------------------------------\n"
          ],
          "name": "stdout"
        }
      ]
    },
    {
      "cell_type": "markdown",
      "metadata": {
        "id": "ek_pm_eHL7lk",
        "colab_type": "text"
      },
      "source": [
        "### Training and Testing Loss"
      ]
    },
    {
      "cell_type": "code",
      "metadata": {
        "id": "SxL0FXfuvQ6h",
        "colab_type": "code",
        "outputId": "84371a89-2585-4817-9af2-c9622365861b",
        "colab": {
          "base_uri": "https://localhost:8080/",
          "height": 1000
        }
      },
      "source": [
        "from train_ import train\n",
        "from test_ import test\n",
        "from torch.optim.lr_scheduler import ReduceLROnPlateau\n",
        "criterion = nn.CrossEntropyLoss()\n",
        "\n",
        "\n",
        "# lr_lambda = lambda epoch: round(0.1 * 1/(1 + 0.319 * epoch), 10)\n",
        "# lr_lambda1 = lambda epoch : (epoch*0.7)\\\n",
        "\n",
        "\n",
        "model =  netobj.to(device)\n",
        "# optimizer = optim.SGD(model.parameters(), lr=0.001, momentum=0.7, nesterov=True) #lr =1e-3\n",
        "# # scheduler = StepLR(optimizer, step_size=1, gamma=1.1)\n",
        "# scheduler = StepLR(optimizer, step_size=1, gamma=1.2)\n",
        "\n",
        "optimizer = optim.SGD(model.parameters(), lr=1e-1, momentum=0.9, weight_decay=0.0025)\n",
        "# scheduler = ReduceLROnPlateau(optimizer, mode='min', factor=0.3, patience=3, verbose=True, \n",
        "#                               threshold=0.0001, threshold_mode='rel', cooldown=0, min_lr=0, eps=1e-08)\n",
        "\n",
        "scheduler = torch.optim.lr_scheduler.CyclicLR(optimizer, base_lr = 0.001, max_lr = 0.05, step_size_up=5, step_size_down=20, mode='triangular2')\n",
        "\n",
        "EPOCHS = 50\n",
        "\n",
        "\n",
        "test_acc = []\n",
        "train_acc = []\n",
        "trainloss_ = []\n",
        "testloss_ = []\n",
        "lr_= []\n",
        "# loss=1000\n",
        "# loss = 1000\n",
        "for epoch in range(EPOCHS):  # loop over the dataset multiple times\n",
        "    for param_group in optimizer.param_groups:\n",
        "      print(\"lr= \",param_group['lr'])\n",
        "    print(\"EPOCH :\", epoch)\n",
        "    trainacc, loss = train(model, device, train_loader, optimizer, criterion, epoch)\n",
        "    train_acc.append(trainacc)\n",
        "    testacc, loss1 = test(model, device, test_loader, criterion)\n",
        "    test_acc.append(testacc)\n",
        "    trainloss_.append(loss)\n",
        "    testloss_.append(loss1)\n",
        "    scheduler.step()\n",
        "    # lr_step = optimizer.state_dict()[\"param_groups\"][0][\"lr\"]\n",
        "    lr = param_group['lr']\n",
        "    lr_.append(lr)\n",
        "print('Finished Training')"
      ],
      "execution_count": 20,
      "outputs": [
        {
          "output_type": "stream",
          "text": [
            "\r  0%|          | 0/301 [00:00<?, ?it/s]"
          ],
          "name": "stderr"
        },
        {
          "output_type": "stream",
          "text": [
            "lr=  0.001\n",
            "EPOCH : 0\n"
          ],
          "name": "stdout"
        },
        {
          "output_type": "stream",
          "text": [
            "Epoch= 0 Loss=4.733070373535156 Batch_id=300 Accuracy=6.00: 100%|██████████| 301/301 [02:57<00:00,  1.70it/s]\n",
            "100%|██████████| 129/129 [00:32<00:00,  3.92it/s]\n",
            "  0%|          | 0/301 [00:00<?, ?it/s]"
          ],
          "name": "stderr"
        },
        {
          "output_type": "stream",
          "text": [
            "Test Loss= 4.714888 Test Accuracy= 5.9787878787878785\n",
            "lr=  0.010800000000000008\n",
            "EPOCH : 1\n"
          ],
          "name": "stdout"
        },
        {
          "output_type": "stream",
          "text": [
            "Epoch= 1 Loss=3.727783203125 Batch_id=300 Accuracy=20.50: 100%|██████████| 301/301 [02:57<00:00,  1.70it/s]\n",
            "100%|██████████| 129/129 [00:32<00:00,  3.96it/s]\n",
            "  0%|          | 0/301 [00:00<?, ?it/s]"
          ],
          "name": "stderr"
        },
        {
          "output_type": "stream",
          "text": [
            "Test Loss= 3.8742328 Test Accuracy= 14.045454545454545\n",
            "lr=  0.020600000000000018\n",
            "EPOCH : 2\n"
          ],
          "name": "stdout"
        },
        {
          "output_type": "stream",
          "text": [
            "Epoch= 2 Loss=3.151470422744751 Batch_id=300 Accuracy=35.00: 100%|██████████| 301/301 [02:57<00:00,  1.70it/s]\n",
            "100%|██████████| 129/129 [00:32<00:00,  3.96it/s]\n",
            "  0%|          | 0/301 [00:00<?, ?it/s]"
          ],
          "name": "stderr"
        },
        {
          "output_type": "stream",
          "text": [
            "Test Loss= 4.1253567 Test Accuracy= 12.215151515151515\n",
            "lr=  0.030400000000000028\n",
            "EPOCH : 3\n"
          ],
          "name": "stdout"
        },
        {
          "output_type": "stream",
          "text": [
            "Epoch= 3 Loss=3.227181911468506 Batch_id=300 Accuracy=32.50: 100%|██████████| 301/301 [02:57<00:00,  1.70it/s]\n",
            "100%|██████████| 129/129 [00:33<00:00,  3.90it/s]\n",
            "  0%|          | 0/301 [00:00<?, ?it/s]"
          ],
          "name": "stderr"
        },
        {
          "output_type": "stream",
          "text": [
            "Test Loss= 3.38865 Test Accuracy= 21.903030303030302\n",
            "lr=  0.040199999999999986\n",
            "EPOCH : 4\n"
          ],
          "name": "stdout"
        },
        {
          "output_type": "stream",
          "text": [
            "Epoch= 4 Loss=2.9686052799224854 Batch_id=300 Accuracy=31.00: 100%|██████████| 301/301 [02:57<00:00,  1.70it/s]\n",
            "100%|██████████| 129/129 [00:32<00:00,  3.97it/s]\n",
            "  0%|          | 0/301 [00:00<?, ?it/s]"
          ],
          "name": "stderr"
        },
        {
          "output_type": "stream",
          "text": [
            "Test Loss= 3.3529594 Test Accuracy= 25.206060606060607\n",
            "lr=  0.04999999999999999\n",
            "EPOCH : 5\n"
          ],
          "name": "stdout"
        },
        {
          "output_type": "stream",
          "text": [
            "Epoch= 5 Loss=2.813936710357666 Batch_id=300 Accuracy=47.00: 100%|██████████| 301/301 [02:57<00:00,  1.70it/s]\n",
            "100%|██████████| 129/129 [00:32<00:00,  3.92it/s]\n",
            "  0%|          | 0/301 [00:00<?, ?it/s]"
          ],
          "name": "stderr"
        },
        {
          "output_type": "stream",
          "text": [
            "Test Loss= 3.228268 Test Accuracy= 26.993939393939392\n",
            "lr=  0.04755\n",
            "EPOCH : 6\n"
          ],
          "name": "stdout"
        },
        {
          "output_type": "stream",
          "text": [
            "Epoch= 6 Loss=2.6970760822296143 Batch_id=300 Accuracy=39.50: 100%|██████████| 301/301 [02:57<00:00,  1.70it/s]\n",
            "100%|██████████| 129/129 [00:33<00:00,  3.88it/s]\n",
            "  0%|          | 0/301 [00:00<?, ?it/s]"
          ],
          "name": "stderr"
        },
        {
          "output_type": "stream",
          "text": [
            "Test Loss= 2.6846793 Test Accuracy= 33.60909090909091\n",
            "lr=  0.0451\n",
            "EPOCH : 7\n"
          ],
          "name": "stdout"
        },
        {
          "output_type": "stream",
          "text": [
            "Epoch= 7 Loss=2.5486032962799072 Batch_id=300 Accuracy=49.00: 100%|██████████| 301/301 [02:57<00:00,  1.70it/s]\n",
            "100%|██████████| 129/129 [00:32<00:00,  3.94it/s]\n",
            "  0%|          | 0/301 [00:00<?, ?it/s]"
          ],
          "name": "stderr"
        },
        {
          "output_type": "stream",
          "text": [
            "Test Loss= 3.2324243 Test Accuracy= 30.196969696969695\n",
            "lr=  0.042649999999999993\n",
            "EPOCH : 8\n"
          ],
          "name": "stdout"
        },
        {
          "output_type": "stream",
          "text": [
            "Epoch= 8 Loss=2.398033380508423 Batch_id=300 Accuracy=52.00: 100%|██████████| 301/301 [02:57<00:00,  1.70it/s]\n",
            "100%|██████████| 129/129 [00:33<00:00,  3.91it/s]\n",
            "  0%|          | 0/301 [00:00<?, ?it/s]"
          ],
          "name": "stderr"
        },
        {
          "output_type": "stream",
          "text": [
            "Test Loss= 3.0048938 Test Accuracy= 32.95454545454545\n",
            "lr=  0.04020000000000001\n",
            "EPOCH : 9\n"
          ],
          "name": "stdout"
        },
        {
          "output_type": "stream",
          "text": [
            "Epoch= 9 Loss=2.349851131439209 Batch_id=300 Accuracy=52.00: 100%|██████████| 301/301 [02:57<00:00,  1.70it/s]\n",
            "100%|██████████| 129/129 [00:33<00:00,  3.87it/s]\n",
            "  0%|          | 0/301 [00:00<?, ?it/s]"
          ],
          "name": "stderr"
        },
        {
          "output_type": "stream",
          "text": [
            "Test Loss= 2.6539896 Test Accuracy= 35.875757575757575\n",
            "lr=  0.037750000000000006\n",
            "EPOCH : 10\n"
          ],
          "name": "stdout"
        },
        {
          "output_type": "stream",
          "text": [
            "Epoch= 10 Loss=2.393829584121704 Batch_id=300 Accuracy=56.00: 100%|██████████| 301/301 [02:57<00:00,  1.70it/s]\n",
            "100%|██████████| 129/129 [00:32<00:00,  3.92it/s]\n",
            "  0%|          | 0/301 [00:00<?, ?it/s]"
          ],
          "name": "stderr"
        },
        {
          "output_type": "stream",
          "text": [
            "Test Loss= 2.6209333 Test Accuracy= 38.65151515151515\n",
            "lr=  0.035300000000000005\n",
            "EPOCH : 11\n"
          ],
          "name": "stdout"
        },
        {
          "output_type": "stream",
          "text": [
            "Epoch= 11 Loss=1.980685830116272 Batch_id=300 Accuracy=67.00: 100%|██████████| 301/301 [02:57<00:00,  1.70it/s]\n",
            "100%|██████████| 129/129 [00:32<00:00,  3.95it/s]\n",
            "  0%|          | 0/301 [00:00<?, ?it/s]"
          ],
          "name": "stderr"
        },
        {
          "output_type": "stream",
          "text": [
            "Test Loss= 2.7839644 Test Accuracy= 36.56969696969697\n",
            "lr=  0.032850000000000004\n",
            "EPOCH : 12\n"
          ],
          "name": "stdout"
        },
        {
          "output_type": "stream",
          "text": [
            "Epoch= 12 Loss=2.1591620445251465 Batch_id=300 Accuracy=63.00: 100%|██████████| 301/301 [02:57<00:00,  1.70it/s]\n",
            "100%|██████████| 129/129 [00:33<00:00,  3.86it/s]\n",
            "  0%|          | 0/301 [00:00<?, ?it/s]"
          ],
          "name": "stderr"
        },
        {
          "output_type": "stream",
          "text": [
            "Test Loss= 2.6173198 Test Accuracy= 40.733333333333334\n",
            "lr=  0.0304\n",
            "EPOCH : 13\n"
          ],
          "name": "stdout"
        },
        {
          "output_type": "stream",
          "text": [
            "Epoch= 13 Loss=2.1571123600006104 Batch_id=300 Accuracy=61.50: 100%|██████████| 301/301 [02:57<00:00,  1.70it/s]\n",
            "100%|██████████| 129/129 [00:32<00:00,  3.95it/s]\n",
            "  0%|          | 0/301 [00:00<?, ?it/s]"
          ],
          "name": "stderr"
        },
        {
          "output_type": "stream",
          "text": [
            "Test Loss= 2.496556 Test Accuracy= 41.61212121212121\n",
            "lr=  0.02795\n",
            "EPOCH : 14\n"
          ],
          "name": "stdout"
        },
        {
          "output_type": "stream",
          "text": [
            "Epoch= 14 Loss=2.086162567138672 Batch_id=300 Accuracy=64.00: 100%|██████████| 301/301 [02:57<00:00,  1.70it/s]\n",
            "100%|██████████| 129/129 [00:32<00:00,  3.96it/s]\n",
            "  0%|          | 0/301 [00:00<?, ?it/s]"
          ],
          "name": "stderr"
        },
        {
          "output_type": "stream",
          "text": [
            "Test Loss= 2.369153 Test Accuracy= 41.7\n",
            "lr=  0.025499999999999995\n",
            "EPOCH : 15\n"
          ],
          "name": "stdout"
        },
        {
          "output_type": "stream",
          "text": [
            "Epoch= 15 Loss=1.8370697498321533 Batch_id=300 Accuracy=68.50: 100%|██████████| 301/301 [02:57<00:00,  1.70it/s]\n",
            "100%|██████████| 129/129 [00:32<00:00,  3.97it/s]\n",
            "  0%|          | 0/301 [00:00<?, ?it/s]"
          ],
          "name": "stderr"
        },
        {
          "output_type": "stream",
          "text": [
            "Test Loss= 2.4260845 Test Accuracy= 40.803030303030305\n",
            "lr=  0.023049999999999994\n",
            "EPOCH : 16\n"
          ],
          "name": "stdout"
        },
        {
          "output_type": "stream",
          "text": [
            "Epoch= 16 Loss=1.9337283372879028 Batch_id=300 Accuracy=70.50: 100%|██████████| 301/301 [02:57<00:00,  1.70it/s]\n",
            "100%|██████████| 129/129 [00:32<00:00,  3.94it/s]\n",
            "  0%|          | 0/301 [00:00<?, ?it/s]"
          ],
          "name": "stderr"
        },
        {
          "output_type": "stream",
          "text": [
            "Test Loss= 2.4164603 Test Accuracy= 44.22121212121212\n",
            "lr=  0.020599999999999993\n",
            "EPOCH : 17\n"
          ],
          "name": "stdout"
        },
        {
          "output_type": "stream",
          "text": [
            "Epoch= 17 Loss=1.7108197212219238 Batch_id=300 Accuracy=69.00: 100%|██████████| 301/301 [02:57<00:00,  1.70it/s]\n",
            "100%|██████████| 129/129 [00:32<00:00,  3.97it/s]\n",
            "  0%|          | 0/301 [00:00<?, ?it/s]"
          ],
          "name": "stderr"
        },
        {
          "output_type": "stream",
          "text": [
            "Test Loss= 2.4688532 Test Accuracy= 42.2030303030303\n",
            "lr=  0.018150000000000003\n",
            "EPOCH : 18\n"
          ],
          "name": "stdout"
        },
        {
          "output_type": "stream",
          "text": [
            "Epoch= 18 Loss=1.7840555906295776 Batch_id=300 Accuracy=74.00: 100%|██████████| 301/301 [02:57<00:00,  1.70it/s]\n",
            "100%|██████████| 129/129 [00:32<00:00,  3.97it/s]\n",
            "  0%|          | 0/301 [00:00<?, ?it/s]"
          ],
          "name": "stderr"
        },
        {
          "output_type": "stream",
          "text": [
            "Test Loss= 2.4790516 Test Accuracy= 46.69090909090909\n",
            "lr=  0.0157\n",
            "EPOCH : 19\n"
          ],
          "name": "stdout"
        },
        {
          "output_type": "stream",
          "text": [
            "Epoch= 19 Loss=1.5409852266311646 Batch_id=300 Accuracy=74.00: 100%|██████████| 301/301 [02:57<00:00,  1.70it/s]\n",
            "100%|██████████| 129/129 [00:32<00:00,  3.98it/s]\n",
            "  0%|          | 0/301 [00:00<?, ?it/s]"
          ],
          "name": "stderr"
        },
        {
          "output_type": "stream",
          "text": [
            "Test Loss= 2.158524 Test Accuracy= 46.38787878787879\n",
            "lr=  0.013249999999999998\n",
            "EPOCH : 20\n"
          ],
          "name": "stdout"
        },
        {
          "output_type": "stream",
          "text": [
            "Epoch= 20 Loss=1.361009955406189 Batch_id=300 Accuracy=79.50: 100%|██████████| 301/301 [03:03<00:00,  1.64it/s]\n",
            "100%|██████████| 129/129 [00:32<00:00,  3.97it/s]\n",
            "  0%|          | 0/301 [00:00<?, ?it/s]"
          ],
          "name": "stderr"
        },
        {
          "output_type": "stream",
          "text": [
            "Test Loss= 2.3083248 Test Accuracy= 46.587878787878786\n",
            "lr=  0.010800000000000008\n",
            "EPOCH : 21\n"
          ],
          "name": "stdout"
        },
        {
          "output_type": "stream",
          "text": [
            "Epoch= 21 Loss=1.2778735160827637 Batch_id=300 Accuracy=79.50: 100%|██████████| 301/301 [02:57<00:00,  1.70it/s]\n",
            "100%|██████████| 129/129 [00:32<00:00,  3.97it/s]\n",
            "  0%|          | 0/301 [00:00<?, ?it/s]"
          ],
          "name": "stderr"
        },
        {
          "output_type": "stream",
          "text": [
            "Test Loss= 2.2610197 Test Accuracy= 48.3969696969697\n",
            "lr=  0.008350000000000007\n",
            "EPOCH : 22\n"
          ],
          "name": "stdout"
        },
        {
          "output_type": "stream",
          "text": [
            "Epoch= 22 Loss=1.1121742725372314 Batch_id=300 Accuracy=83.50: 100%|██████████| 301/301 [02:57<00:00,  1.70it/s]\n",
            "100%|██████████| 129/129 [00:32<00:00,  3.95it/s]\n",
            "  0%|          | 0/301 [00:00<?, ?it/s]"
          ],
          "name": "stderr"
        },
        {
          "output_type": "stream",
          "text": [
            "Test Loss= 2.1793394 Test Accuracy= 50.13333333333333\n",
            "lr=  0.005900000000000004\n",
            "EPOCH : 23\n"
          ],
          "name": "stdout"
        },
        {
          "output_type": "stream",
          "text": [
            "Epoch= 23 Loss=0.8406609296798706 Batch_id=300 Accuracy=88.50: 100%|██████████| 301/301 [02:57<00:00,  1.70it/s]\n",
            "100%|██████████| 129/129 [00:31<00:00,  4.06it/s]\n",
            "  0%|          | 0/301 [00:00<?, ?it/s]"
          ],
          "name": "stderr"
        },
        {
          "output_type": "stream",
          "text": [
            "Test Loss= 2.1680744 Test Accuracy= 50.33030303030303\n",
            "lr=  0.003450000000000002\n",
            "EPOCH : 24\n"
          ],
          "name": "stdout"
        },
        {
          "output_type": "stream",
          "text": [
            "Epoch= 24 Loss=0.478301465511322 Batch_id=300 Accuracy=93.50: 100%|██████████| 301/301 [02:57<00:00,  1.70it/s]\n",
            "100%|██████████| 129/129 [00:32<00:00,  4.01it/s]\n",
            "  0%|          | 0/301 [00:00<?, ?it/s]"
          ],
          "name": "stderr"
        },
        {
          "output_type": "stream",
          "text": [
            "Test Loss= 2.164781 Test Accuracy= 53.481818181818184\n",
            "lr=  0.001\n",
            "EPOCH : 25\n"
          ],
          "name": "stdout"
        },
        {
          "output_type": "stream",
          "text": [
            "Epoch= 25 Loss=0.31006643176078796 Batch_id=300 Accuracy=97.00: 100%|██████████| 301/301 [02:57<00:00,  1.70it/s]\n",
            "100%|██████████| 129/129 [00:32<00:00,  3.92it/s]\n",
            "  0%|          | 0/301 [00:00<?, ?it/s]"
          ],
          "name": "stderr"
        },
        {
          "output_type": "stream",
          "text": [
            "Test Loss= 1.7097574 Test Accuracy= 55.054545454545455\n",
            "lr=  0.005900000000000004\n",
            "EPOCH : 26\n"
          ],
          "name": "stdout"
        },
        {
          "output_type": "stream",
          "text": [
            "Epoch= 26 Loss=0.7315970659255981 Batch_id=300 Accuracy=92.50: 100%|██████████| 301/301 [02:57<00:00,  1.70it/s]\n",
            "100%|██████████| 129/129 [00:32<00:00,  3.96it/s]\n",
            "  0%|          | 0/301 [00:00<?, ?it/s]"
          ],
          "name": "stderr"
        },
        {
          "output_type": "stream",
          "text": [
            "Test Loss= 1.9665748 Test Accuracy= 49.515151515151516\n",
            "lr=  0.010800000000000008\n",
            "EPOCH : 27\n"
          ],
          "name": "stdout"
        },
        {
          "output_type": "stream",
          "text": [
            "Epoch= 27 Loss=1.364335060119629 Batch_id=300 Accuracy=83.50: 100%|██████████| 301/301 [02:57<00:00,  1.70it/s]\n",
            "100%|██████████| 129/129 [00:32<00:00,  3.97it/s]\n",
            "  0%|          | 0/301 [00:00<?, ?it/s]"
          ],
          "name": "stderr"
        },
        {
          "output_type": "stream",
          "text": [
            "Test Loss= 2.3752615 Test Accuracy= 44.96666666666667\n",
            "lr=  0.015700000000000013\n",
            "EPOCH : 28\n"
          ],
          "name": "stdout"
        },
        {
          "output_type": "stream",
          "text": [
            "Epoch= 28 Loss=1.3669053316116333 Batch_id=300 Accuracy=82.50: 100%|██████████| 301/301 [02:57<00:00,  1.70it/s]\n",
            "100%|██████████| 129/129 [00:32<00:00,  3.97it/s]\n",
            "  0%|          | 0/301 [00:00<?, ?it/s]"
          ],
          "name": "stderr"
        },
        {
          "output_type": "stream",
          "text": [
            "Test Loss= 2.4507675 Test Accuracy= 43.27272727272727\n",
            "lr=  0.020600000000000018\n",
            "EPOCH : 29\n"
          ],
          "name": "stdout"
        },
        {
          "output_type": "stream",
          "text": [
            "Epoch= 29 Loss=1.5545376539230347 Batch_id=300 Accuracy=80.50: 100%|██████████| 301/301 [02:57<00:00,  1.70it/s]\n",
            "100%|██████████| 129/129 [00:32<00:00,  3.96it/s]\n",
            "  0%|          | 0/301 [00:00<?, ?it/s]"
          ],
          "name": "stderr"
        },
        {
          "output_type": "stream",
          "text": [
            "Test Loss= 2.3501375 Test Accuracy= 44.78787878787879\n",
            "lr=  0.025499999999999995\n",
            "EPOCH : 30\n"
          ],
          "name": "stdout"
        },
        {
          "output_type": "stream",
          "text": [
            "Epoch= 30 Loss=1.5571796894073486 Batch_id=300 Accuracy=83.00: 100%|██████████| 301/301 [02:57<00:00,  1.70it/s]\n",
            "100%|██████████| 129/129 [00:32<00:00,  3.97it/s]\n",
            "  0%|          | 0/301 [00:00<?, ?it/s]"
          ],
          "name": "stderr"
        },
        {
          "output_type": "stream",
          "text": [
            "Test Loss= 2.4999087 Test Accuracy= 41.518181818181816\n",
            "lr=  0.024274999999999994\n",
            "EPOCH : 31\n"
          ],
          "name": "stdout"
        },
        {
          "output_type": "stream",
          "text": [
            "Epoch= 31 Loss=1.3907374143600464 Batch_id=300 Accuracy=86.00: 100%|██████████| 301/301 [02:57<00:00,  1.70it/s]\n",
            "100%|██████████| 129/129 [00:32<00:00,  3.95it/s]\n",
            "  0%|          | 0/301 [00:00<?, ?it/s]"
          ],
          "name": "stderr"
        },
        {
          "output_type": "stream",
          "text": [
            "Test Loss= 2.4323342 Test Accuracy= 42.736363636363635\n",
            "lr=  0.023049999999999994\n",
            "EPOCH : 32\n"
          ],
          "name": "stdout"
        },
        {
          "output_type": "stream",
          "text": [
            "Epoch= 32 Loss=1.4662089347839355 Batch_id=300 Accuracy=82.00: 100%|██████████| 301/301 [02:57<00:00,  1.70it/s]\n",
            "100%|██████████| 129/129 [00:32<00:00,  3.92it/s]\n",
            "  0%|          | 0/301 [00:00<?, ?it/s]"
          ],
          "name": "stderr"
        },
        {
          "output_type": "stream",
          "text": [
            "Test Loss= 2.3915708 Test Accuracy= 42.903030303030306\n",
            "lr=  0.021824999999999994\n",
            "EPOCH : 33\n"
          ],
          "name": "stdout"
        },
        {
          "output_type": "stream",
          "text": [
            "Epoch= 33 Loss=1.432019829750061 Batch_id=300 Accuracy=86.50: 100%|██████████| 301/301 [02:57<00:00,  1.70it/s]\n",
            "100%|██████████| 129/129 [00:32<00:00,  3.97it/s]\n",
            "  0%|          | 0/301 [00:00<?, ?it/s]"
          ],
          "name": "stderr"
        },
        {
          "output_type": "stream",
          "text": [
            "Test Loss= 2.6297767 Test Accuracy= 44.91818181818182\n",
            "lr=  0.020599999999999993\n",
            "EPOCH : 34\n"
          ],
          "name": "stdout"
        },
        {
          "output_type": "stream",
          "text": [
            "Epoch= 34 Loss=1.1378096342086792 Batch_id=300 Accuracy=88.00: 100%|██████████| 301/301 [02:57<00:00,  1.70it/s]\n",
            "100%|██████████| 129/129 [00:32<00:00,  3.99it/s]\n",
            "  0%|          | 0/301 [00:00<?, ?it/s]"
          ],
          "name": "stderr"
        },
        {
          "output_type": "stream",
          "text": [
            "Test Loss= 2.7079103 Test Accuracy= 43.554545454545455\n",
            "lr=  0.019375000000000003\n",
            "EPOCH : 35\n"
          ],
          "name": "stdout"
        },
        {
          "output_type": "stream",
          "text": [
            "Epoch= 35 Loss=1.3213722705841064 Batch_id=300 Accuracy=89.50: 100%|██████████| 301/301 [02:57<00:00,  1.70it/s]\n",
            "100%|██████████| 129/129 [00:35<00:00,  3.63it/s]\n",
            "  0%|          | 0/301 [00:00<?, ?it/s]"
          ],
          "name": "stderr"
        },
        {
          "output_type": "stream",
          "text": [
            "Test Loss= 2.705813 Test Accuracy= 40.1\n",
            "lr=  0.018150000000000003\n",
            "EPOCH : 36\n"
          ],
          "name": "stdout"
        },
        {
          "output_type": "stream",
          "text": [
            "Epoch= 36 Loss=1.1345467567443848 Batch_id=300 Accuracy=89.50: 100%|██████████| 301/301 [02:57<00:00,  1.70it/s]\n",
            "100%|██████████| 129/129 [00:32<00:00,  3.92it/s]\n",
            "  0%|          | 0/301 [00:00<?, ?it/s]"
          ],
          "name": "stderr"
        },
        {
          "output_type": "stream",
          "text": [
            "Test Loss= 2.4319987 Test Accuracy= 44.627272727272725\n",
            "lr=  0.016925000000000003\n",
            "EPOCH : 37\n"
          ],
          "name": "stdout"
        },
        {
          "output_type": "stream",
          "text": [
            "Epoch= 37 Loss=1.0611873865127563 Batch_id=300 Accuracy=91.00: 100%|██████████| 301/301 [02:57<00:00,  1.70it/s]\n",
            "100%|██████████| 129/129 [00:32<00:00,  3.97it/s]\n",
            "  0%|          | 0/301 [00:00<?, ?it/s]"
          ],
          "name": "stderr"
        },
        {
          "output_type": "stream",
          "text": [
            "Test Loss= 2.3422234 Test Accuracy= 46.56666666666667\n",
            "lr=  0.0157\n",
            "EPOCH : 38\n"
          ],
          "name": "stdout"
        },
        {
          "output_type": "stream",
          "text": [
            "Epoch= 38 Loss=0.9632971286773682 Batch_id=300 Accuracy=92.50: 100%|██████████| 301/301 [02:57<00:00,  1.70it/s]\n",
            "100%|██████████| 129/129 [00:32<00:00,  3.93it/s]\n",
            "  0%|          | 0/301 [00:00<?, ?it/s]"
          ],
          "name": "stderr"
        },
        {
          "output_type": "stream",
          "text": [
            "Test Loss= 2.356995 Test Accuracy= 44.72727272727273\n",
            "lr=  0.014474999999999998\n",
            "EPOCH : 39\n"
          ],
          "name": "stdout"
        },
        {
          "output_type": "stream",
          "text": [
            "Epoch= 39 Loss=0.7768400311470032 Batch_id=300 Accuracy=95.50: 100%|██████████| 301/301 [02:57<00:00,  1.70it/s]\n",
            "100%|██████████| 129/129 [00:32<00:00,  3.98it/s]\n",
            "  0%|          | 0/301 [00:00<?, ?it/s]"
          ],
          "name": "stderr"
        },
        {
          "output_type": "stream",
          "text": [
            "Test Loss= 2.2586815 Test Accuracy= 45.445454545454545\n",
            "lr=  0.013249999999999998\n",
            "EPOCH : 40\n"
          ],
          "name": "stdout"
        },
        {
          "output_type": "stream",
          "text": [
            "Epoch= 40 Loss=0.7958300709724426 Batch_id=300 Accuracy=96.00: 100%|██████████| 301/301 [02:57<00:00,  1.70it/s]\n",
            "100%|██████████| 129/129 [00:32<00:00,  3.95it/s]\n",
            "  0%|          | 0/301 [00:00<?, ?it/s]"
          ],
          "name": "stderr"
        },
        {
          "output_type": "stream",
          "text": [
            "Test Loss= 2.4727757 Test Accuracy= 44.8969696969697\n",
            "lr=  0.012025000000000011\n",
            "EPOCH : 41\n"
          ],
          "name": "stdout"
        },
        {
          "output_type": "stream",
          "text": [
            "Epoch= 41 Loss=0.7756083607673645 Batch_id=300 Accuracy=94.50: 100%|██████████| 301/301 [02:57<00:00,  1.70it/s]\n",
            "100%|██████████| 129/129 [00:32<00:00,  3.96it/s]\n",
            "  0%|          | 0/301 [00:00<?, ?it/s]"
          ],
          "name": "stderr"
        },
        {
          "output_type": "stream",
          "text": [
            "Test Loss= 2.403547 Test Accuracy= 45.2030303030303\n",
            "lr=  0.010800000000000008\n",
            "EPOCH : 42\n"
          ],
          "name": "stdout"
        },
        {
          "output_type": "stream",
          "text": [
            "Epoch= 42 Loss=0.6310386061668396 Batch_id=300 Accuracy=96.50: 100%|██████████| 301/301 [02:57<00:00,  1.70it/s]\n",
            "100%|██████████| 129/129 [00:31<00:00,  4.05it/s]\n",
            "  0%|          | 0/301 [00:00<?, ?it/s]"
          ],
          "name": "stderr"
        },
        {
          "output_type": "stream",
          "text": [
            "Test Loss= 2.618627 Test Accuracy= 46.68181818181818\n",
            "lr=  0.009575000000000007\n",
            "EPOCH : 43\n"
          ],
          "name": "stdout"
        },
        {
          "output_type": "stream",
          "text": [
            "Epoch= 43 Loss=0.4423602223396301 Batch_id=300 Accuracy=98.50: 100%|██████████| 301/301 [02:57<00:00,  1.70it/s]\n",
            "100%|██████████| 129/129 [00:32<00:00,  3.97it/s]\n",
            "  0%|          | 0/301 [00:00<?, ?it/s]"
          ],
          "name": "stderr"
        },
        {
          "output_type": "stream",
          "text": [
            "Test Loss= 2.1297493 Test Accuracy= 47.73939393939394\n",
            "lr=  0.008350000000000007\n",
            "EPOCH : 44\n"
          ],
          "name": "stdout"
        },
        {
          "output_type": "stream",
          "text": [
            "Epoch= 44 Loss=0.4422401189804077 Batch_id=300 Accuracy=99.00: 100%|██████████| 301/301 [02:57<00:00,  1.70it/s]\n",
            "100%|██████████| 129/129 [00:32<00:00,  4.00it/s]\n",
            "  0%|          | 0/301 [00:00<?, ?it/s]"
          ],
          "name": "stderr"
        },
        {
          "output_type": "stream",
          "text": [
            "Test Loss= 2.1406648 Test Accuracy= 48.981818181818184\n",
            "lr=  0.0071250000000000055\n",
            "EPOCH : 45\n"
          ],
          "name": "stdout"
        },
        {
          "output_type": "stream",
          "text": [
            "Epoch= 45 Loss=0.2844640016555786 Batch_id=300 Accuracy=99.50: 100%|██████████| 301/301 [02:57<00:00,  1.70it/s]\n",
            "100%|██████████| 129/129 [00:32<00:00,  3.98it/s]\n",
            "  0%|          | 0/301 [00:00<?, ?it/s]"
          ],
          "name": "stderr"
        },
        {
          "output_type": "stream",
          "text": [
            "Test Loss= 2.1719623 Test Accuracy= 50.92424242424242\n",
            "lr=  0.005900000000000004\n",
            "EPOCH : 46\n"
          ],
          "name": "stdout"
        },
        {
          "output_type": "stream",
          "text": [
            "Epoch= 46 Loss=0.21236003935337067 Batch_id=300 Accuracy=99.50: 100%|██████████| 301/301 [02:57<00:00,  1.70it/s]\n",
            "100%|██████████| 129/129 [00:32<00:00,  3.94it/s]\n",
            "  0%|          | 0/301 [00:00<?, ?it/s]"
          ],
          "name": "stderr"
        },
        {
          "output_type": "stream",
          "text": [
            "Test Loss= 2.2545173 Test Accuracy= 51.587878787878786\n",
            "lr=  0.004675000000000004\n",
            "EPOCH : 47\n"
          ],
          "name": "stdout"
        },
        {
          "output_type": "stream",
          "text": [
            "Epoch= 47 Loss=0.10893405973911285 Batch_id=300 Accuracy=100.00: 100%|██████████| 301/301 [02:57<00:00,  1.70it/s]\n",
            "100%|██████████| 129/129 [00:32<00:00,  3.98it/s]\n",
            "  0%|          | 0/301 [00:00<?, ?it/s]"
          ],
          "name": "stderr"
        },
        {
          "output_type": "stream",
          "text": [
            "Test Loss= 1.7554214 Test Accuracy= 52.67575757575757\n",
            "lr=  0.003450000000000002\n",
            "EPOCH : 48\n"
          ],
          "name": "stdout"
        },
        {
          "output_type": "stream",
          "text": [
            "Epoch= 48 Loss=0.08887692540884018 Batch_id=300 Accuracy=100.00: 100%|██████████| 301/301 [02:57<00:00,  1.70it/s]\n",
            "100%|██████████| 129/129 [00:33<00:00,  3.90it/s]\n",
            "  0%|          | 0/301 [00:00<?, ?it/s]"
          ],
          "name": "stderr"
        },
        {
          "output_type": "stream",
          "text": [
            "Test Loss= 2.0641918 Test Accuracy= 53.657575757575756\n",
            "lr=  0.0022250000000000013\n",
            "EPOCH : 49\n"
          ],
          "name": "stdout"
        },
        {
          "output_type": "stream",
          "text": [
            "Epoch= 49 Loss=0.06386871635913849 Batch_id=300 Accuracy=100.00: 100%|██████████| 301/301 [02:57<00:00,  1.70it/s]\n",
            "100%|██████████| 129/129 [00:32<00:00,  3.95it/s]"
          ],
          "name": "stderr"
        },
        {
          "output_type": "stream",
          "text": [
            "Test Loss= 2.0364213 Test Accuracy= 54.34848484848485\n",
            "Finished Training\n"
          ],
          "name": "stdout"
        },
        {
          "output_type": "stream",
          "text": [
            "\n"
          ],
          "name": "stderr"
        }
      ]
    }
  ]
}