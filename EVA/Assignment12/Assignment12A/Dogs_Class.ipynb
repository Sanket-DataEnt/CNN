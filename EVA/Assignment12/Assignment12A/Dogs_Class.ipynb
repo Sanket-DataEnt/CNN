{
  "nbformat": 4,
  "nbformat_minor": 0,
  "metadata": {
    "kernelspec": {
      "name": "python3",
      "display_name": "Python 3"
    },
    "language_info": {
      "codemirror_mode": {
        "name": "ipython",
        "version": 3
      },
      "file_extension": ".py",
      "mimetype": "text/x-python",
      "name": "python",
      "nbconvert_exporter": "python",
      "pygments_lexer": "ipython3",
      "version": "3.6.6"
    },
    "colab": {
      "name": "Dogs_Class.ipynb",
      "provenance": [],
      "collapsed_sections": []
    },
    "accelerator": "GPU"
  },
  "cells": [
    {
      "cell_type": "code",
      "metadata": {
        "id": "P92-nBDfeewm",
        "colab_type": "code",
        "outputId": "f02d1c08-e241-4a7a-e075-4d8ff6351aa9",
        "colab": {
          "base_uri": "https://localhost:8080/",
          "height": 124
        }
      },
      "source": [
        "from google.colab import drive\n",
        "drive.mount('/content/drive')"
      ],
      "execution_count": 1,
      "outputs": [
        {
          "output_type": "stream",
          "text": [
            "Go to this URL in a browser: https://accounts.google.com/o/oauth2/auth?client_id=947318989803-6bn6qk8qdgf4n4g3pfee6491hc0brc4i.apps.googleusercontent.com&redirect_uri=urn%3aietf%3awg%3aoauth%3a2.0%3aoob&response_type=code&scope=email%20https%3a%2f%2fwww.googleapis.com%2fauth%2fdocs.test%20https%3a%2f%2fwww.googleapis.com%2fauth%2fdrive%20https%3a%2f%2fwww.googleapis.com%2fauth%2fdrive.photos.readonly%20https%3a%2f%2fwww.googleapis.com%2fauth%2fpeopleapi.readonly\n",
            "\n",
            "Enter your authorization code:\n",
            "··········\n",
            "Mounted at /content/drive\n"
          ],
          "name": "stdout"
        }
      ]
    },
    {
      "cell_type": "code",
      "metadata": {
        "id": "QVbdg0z4poCc",
        "colab_type": "code",
        "colab": {}
      },
      "source": [
        "%matplotlib inline\n",
        "import json\n",
        "import numpy as np\n",
        "import pandas as pd\n",
        "from matplotlib import pyplot as plt\n",
        "from sklearn.cluster import KMeans"
      ],
      "execution_count": 0,
      "outputs": []
    },
    {
      "cell_type": "markdown",
      "metadata": {
        "id": "49HmRteoDMJR",
        "colab_type": "text"
      },
      "source": [
        "### Importing Libraries"
      ]
    },
    {
      "cell_type": "code",
      "metadata": {
        "id": "N-C9mUbt5PUp",
        "colab_type": "code",
        "outputId": "f2e67593-6977-4d83-8aad-83867535dd58",
        "colab": {
          "base_uri": "https://localhost:8080/",
          "height": 34
        }
      },
      "source": [
        "!ls"
      ],
      "execution_count": 3,
      "outputs": [
        {
          "output_type": "stream",
          "text": [
            "drive  sample_data\n"
          ],
          "name": "stdout"
        }
      ]
    },
    {
      "cell_type": "code",
      "metadata": {
        "id": "lKdepv2N9-s-",
        "colab_type": "code",
        "colab": {}
      },
      "source": [
        "# Changing working directory\n",
        "import os\n",
        "os.chdir('./drive/My Drive/EVA/assignment/')"
      ],
      "execution_count": 0,
      "outputs": []
    },
    {
      "cell_type": "code",
      "metadata": {
        "id": "OAhMpLyFqbom",
        "colab_type": "code",
        "colab": {}
      },
      "source": [
        "# Loading json file with images\n",
        "with open('via_export_coco.json') as f:\n",
        "  data = json.load(f)"
      ],
      "execution_count": 0,
      "outputs": []
    },
    {
      "cell_type": "code",
      "metadata": {
        "id": "WLrj54xNqbmQ",
        "colab_type": "code",
        "colab": {
          "base_uri": "https://localhost:8080/",
          "height": 34
        },
        "outputId": "651f5b3a-1280-41fa-be22-c146f37edcf8"
      },
      "source": [
        "# Checking keys\n",
        "data.keys()"
      ],
      "execution_count": 6,
      "outputs": [
        {
          "output_type": "execute_result",
          "data": {
            "text/plain": [
              "dict_keys(['info', 'images', 'annotations', 'licenses', 'categories'])"
            ]
          },
          "metadata": {
            "tags": []
          },
          "execution_count": 6
        }
      ]
    },
    {
      "cell_type": "markdown",
      "metadata": {
        "id": "YL6s_--uVT1G",
        "colab_type": "text"
      },
      "source": [
        "## Images and Annotations\n",
        "\n",
        "We are interested only in images and annotations details"
      ]
    },
    {
      "cell_type": "code",
      "metadata": {
        "id": "ikqfL5XTqbjK",
        "colab_type": "code",
        "colab": {}
      },
      "source": [
        "# Taking only images\n",
        "images = data['images']"
      ],
      "execution_count": 0,
      "outputs": []
    },
    {
      "cell_type": "code",
      "metadata": {
        "id": "WVRc2fpGqbgi",
        "colab_type": "code",
        "colab": {
          "base_uri": "https://localhost:8080/",
          "height": 538
        },
        "outputId": "9413a586-d5d0-470c-d4e2-52312c299a79"
      },
      "source": [
        "images[0:5]"
      ],
      "execution_count": 8,
      "outputs": [
        {
          "output_type": "execute_result",
          "data": {
            "text/plain": [
              "[{'date_captured': '',\n",
              "  'file_name': '1.jpg',\n",
              "  'height': 388,\n",
              "  'id': 0,\n",
              "  'license': 1,\n",
              "  'width': 386},\n",
              " {'date_captured': '',\n",
              "  'file_name': '75c0f6259ba49d729293b9544a067235.jpg',\n",
              "  'height': 426,\n",
              "  'id': 1,\n",
              "  'license': 1,\n",
              "  'width': 637},\n",
              " {'date_captured': '',\n",
              "  'file_name': '83-833982_lab-dog-images-download.jpg',\n",
              "  'height': 716,\n",
              "  'id': 2,\n",
              "  'license': 1,\n",
              "  'width': 1000},\n",
              " {'date_captured': '',\n",
              "  'file_name': '99-996313_jiffpom-wallpapers-wallpaper-cave-jiffpom-dog.jpg',\n",
              "  'height': 1142,\n",
              "  'id': 3,\n",
              "  'license': 1,\n",
              "  'width': 1152},\n",
              " {'date_captured': '',\n",
              "  'file_name': '240-2403024_beagle-dog-cute-animal-pet-loyal-transparent-beagle.png',\n",
              "  'height': 1016,\n",
              "  'id': 4,\n",
              "  'license': 1,\n",
              "  'width': 860}]"
            ]
          },
          "metadata": {
            "tags": []
          },
          "execution_count": 8
        }
      ]
    },
    {
      "cell_type": "code",
      "metadata": {
        "id": "hyofG-b9qbeZ",
        "colab_type": "code",
        "colab": {}
      },
      "source": [
        "# Creating empty dictionary to store images and annotations details\n",
        "img_dict = {}"
      ],
      "execution_count": 0,
      "outputs": []
    },
    {
      "cell_type": "code",
      "metadata": {
        "id": "JTm-mjAQqbbT",
        "colab_type": "code",
        "colab": {}
      },
      "source": [
        "# Storing values of images wrt id\n",
        "for img in images:\n",
        "  id = img['id']\n",
        "  img_dict[str(id)] = {'file_name': img['file_name'],'height' : img['height'], 'width' : img['width']}"
      ],
      "execution_count": 0,
      "outputs": []
    },
    {
      "cell_type": "code",
      "metadata": {
        "id": "6exTrq1nqbY1",
        "colab_type": "code",
        "colab": {
          "base_uri": "https://localhost:8080/",
          "height": 34
        },
        "outputId": "6c978c03-00c2-41de-a46d-a402994d2331"
      },
      "source": [
        "img_dict['0']"
      ],
      "execution_count": 11,
      "outputs": [
        {
          "output_type": "execute_result",
          "data": {
            "text/plain": [
              "{'file_name': '1.jpg', 'height': 388, 'width': 386}"
            ]
          },
          "metadata": {
            "tags": []
          },
          "execution_count": 11
        }
      ]
    },
    {
      "cell_type": "code",
      "metadata": {
        "id": "-oCNAYqYqbVf",
        "colab_type": "code",
        "colab": {}
      },
      "source": [
        "# Selecting only annotations data from the complete data\n",
        "annotations = data['annotations']"
      ],
      "execution_count": 0,
      "outputs": []
    },
    {
      "cell_type": "code",
      "metadata": {
        "id": "EvFonmngvDeG",
        "colab_type": "code",
        "colab": {
          "base_uri": "https://localhost:8080/",
          "height": 139
        },
        "outputId": "7b6da4e5-4e49-4413-8e98-839885a04740"
      },
      "source": [
        "annotations[0]"
      ],
      "execution_count": 13,
      "outputs": [
        {
          "output_type": "execute_result",
          "data": {
            "text/plain": [
              "{'area': 124166,\n",
              " 'bbox': [23, 4, 343, 362],\n",
              " 'category_id': 1,\n",
              " 'id': 0,\n",
              " 'image_id': '0',\n",
              " 'iscrowd': 0,\n",
              " 'segmentation': [23, 4, 366, 4, 366, 366, 23, 366]}"
            ]
          },
          "metadata": {
            "tags": []
          },
          "execution_count": 13
        }
      ]
    },
    {
      "cell_type": "code",
      "metadata": {
        "id": "vX4Pv6dEvNCj",
        "colab_type": "code",
        "colab": {}
      },
      "source": [
        "# Creating an empty list which will be converted to dataframe\n",
        "annotate = []"
      ],
      "execution_count": 0,
      "outputs": []
    },
    {
      "cell_type": "code",
      "metadata": {
        "id": "Exp10bAawW_5",
        "colab_type": "code",
        "colab": {
          "base_uri": "https://localhost:8080/",
          "height": 34
        },
        "outputId": "afb8d001-1c37-4be4-c7a5-7f847fac7d01"
      },
      "source": [
        "a, b, c, d = [140, 47, 923, 1036]\n",
        "print(a,b,c,d)"
      ],
      "execution_count": 15,
      "outputs": [
        {
          "output_type": "stream",
          "text": [
            "140 47 923 1036\n"
          ],
          "name": "stdout"
        }
      ]
    },
    {
      "cell_type": "code",
      "metadata": {
        "id": "xEd0AgPrvP4y",
        "colab_type": "code",
        "colab": {}
      },
      "source": [
        "for ant in annotations:\n",
        "  id = ant['image_id']\n",
        "  img_height = img_dict[id]['height']\n",
        "  img_width = img_dict[id]['width']\n",
        "  img_name = img_dict[id]['file_name']\n",
        "  bb_x, bb_y, bb_width, bb_height = ant['bbox']\n",
        "  img_height_norm = img_height/img_height\n",
        "  img_width_norm = img_width/img_width\n",
        "  bb_x_norm = bb_x/img_width\n",
        "  bb_y_norm = bb_y/img_height\n",
        "  bb_width_norm = bb_width/img_width\n",
        "  bb_height_norm = bb_height/img_height\n",
        "  a = {'file_name':img_name, 'img_height':img_height, 'img_width':img_width, 'img_height_norm' : img_height_norm, 'img_width_norm' : img_width_norm,\n",
        "       'bb_x_norm' : bb_x_norm, 'bb_y_norm':bb_y_norm, 'bb_width_norm' : bb_width_norm, 'bb_height_norm' : bb_height_norm}\n",
        "  annotate.append(a)\n"
      ],
      "execution_count": 0,
      "outputs": []
    },
    {
      "cell_type": "code",
      "metadata": {
        "id": "gBr1DkHsvM_t",
        "colab_type": "code",
        "colab": {
          "base_uri": "https://localhost:8080/",
          "height": 206
        },
        "outputId": "63faddf6-7b2a-4633-fb7b-e13c5f1aac24"
      },
      "source": [
        "df = pd.DataFrame(annotate)\n",
        "df.head()"
      ],
      "execution_count": 17,
      "outputs": [
        {
          "output_type": "execute_result",
          "data": {
            "text/html": [
              "<div>\n",
              "<style scoped>\n",
              "    .dataframe tbody tr th:only-of-type {\n",
              "        vertical-align: middle;\n",
              "    }\n",
              "\n",
              "    .dataframe tbody tr th {\n",
              "        vertical-align: top;\n",
              "    }\n",
              "\n",
              "    .dataframe thead th {\n",
              "        text-align: right;\n",
              "    }\n",
              "</style>\n",
              "<table border=\"1\" class=\"dataframe\">\n",
              "  <thead>\n",
              "    <tr style=\"text-align: right;\">\n",
              "      <th></th>\n",
              "      <th>file_name</th>\n",
              "      <th>img_height</th>\n",
              "      <th>img_width</th>\n",
              "      <th>img_height_norm</th>\n",
              "      <th>img_width_norm</th>\n",
              "      <th>bb_x_norm</th>\n",
              "      <th>bb_y_norm</th>\n",
              "      <th>bb_width_norm</th>\n",
              "      <th>bb_height_norm</th>\n",
              "    </tr>\n",
              "  </thead>\n",
              "  <tbody>\n",
              "    <tr>\n",
              "      <th>0</th>\n",
              "      <td>1.jpg</td>\n",
              "      <td>388</td>\n",
              "      <td>386</td>\n",
              "      <td>1.0</td>\n",
              "      <td>1.0</td>\n",
              "      <td>0.059585</td>\n",
              "      <td>0.010309</td>\n",
              "      <td>0.888601</td>\n",
              "      <td>0.932990</td>\n",
              "    </tr>\n",
              "    <tr>\n",
              "      <th>1</th>\n",
              "      <td>75c0f6259ba49d729293b9544a067235.jpg</td>\n",
              "      <td>426</td>\n",
              "      <td>637</td>\n",
              "      <td>1.0</td>\n",
              "      <td>1.0</td>\n",
              "      <td>0.202512</td>\n",
              "      <td>0.100939</td>\n",
              "      <td>0.646782</td>\n",
              "      <td>0.748826</td>\n",
              "    </tr>\n",
              "    <tr>\n",
              "      <th>2</th>\n",
              "      <td>83-833982_lab-dog-images-download.jpg</td>\n",
              "      <td>716</td>\n",
              "      <td>1000</td>\n",
              "      <td>1.0</td>\n",
              "      <td>1.0</td>\n",
              "      <td>0.195000</td>\n",
              "      <td>0.175978</td>\n",
              "      <td>0.711000</td>\n",
              "      <td>0.722067</td>\n",
              "    </tr>\n",
              "    <tr>\n",
              "      <th>3</th>\n",
              "      <td>99-996313_jiffpom-wallpapers-wallpaper-cave-ji...</td>\n",
              "      <td>1142</td>\n",
              "      <td>1152</td>\n",
              "      <td>1.0</td>\n",
              "      <td>1.0</td>\n",
              "      <td>0.121528</td>\n",
              "      <td>0.041156</td>\n",
              "      <td>0.801215</td>\n",
              "      <td>0.907180</td>\n",
              "    </tr>\n",
              "    <tr>\n",
              "      <th>4</th>\n",
              "      <td>240-2403024_beagle-dog-cute-animal-pet-loyal-t...</td>\n",
              "      <td>1016</td>\n",
              "      <td>860</td>\n",
              "      <td>1.0</td>\n",
              "      <td>1.0</td>\n",
              "      <td>0.139535</td>\n",
              "      <td>0.036417</td>\n",
              "      <td>0.775581</td>\n",
              "      <td>0.924213</td>\n",
              "    </tr>\n",
              "  </tbody>\n",
              "</table>\n",
              "</div>"
            ],
            "text/plain": [
              "                                           file_name  ...  bb_height_norm\n",
              "0                                              1.jpg  ...        0.932990\n",
              "1               75c0f6259ba49d729293b9544a067235.jpg  ...        0.748826\n",
              "2              83-833982_lab-dog-images-download.jpg  ...        0.722067\n",
              "3  99-996313_jiffpom-wallpapers-wallpaper-cave-ji...  ...        0.907180\n",
              "4  240-2403024_beagle-dog-cute-animal-pet-loyal-t...  ...        0.924213\n",
              "\n",
              "[5 rows x 9 columns]"
            ]
          },
          "metadata": {
            "tags": []
          },
          "execution_count": 17
        }
      ]
    },
    {
      "cell_type": "code",
      "metadata": {
        "id": "ZWXHHuGyvM9G",
        "colab_type": "code",
        "colab": {
          "base_uri": "https://localhost:8080/",
          "height": 34
        },
        "outputId": "fff757bd-7d7d-4f2f-85ed-b82803d0b578"
      },
      "source": [
        "df.shape"
      ],
      "execution_count": 18,
      "outputs": [
        {
          "output_type": "execute_result",
          "data": {
            "text/plain": [
              "(50, 9)"
            ]
          },
          "metadata": {
            "tags": []
          },
          "execution_count": 18
        }
      ]
    },
    {
      "cell_type": "code",
      "metadata": {
        "id": "aX0VN6U_vM6u",
        "colab_type": "code",
        "colab": {
          "base_uri": "https://localhost:8080/",
          "height": 206
        },
        "outputId": "35147e84-c2c2-42fe-feb1-d38bfabaca0e"
      },
      "source": [
        "df_updated = df[['file_name','bb_width_norm','bb_height_norm']]\n",
        "df_updated.head()"
      ],
      "execution_count": 24,
      "outputs": [
        {
          "output_type": "execute_result",
          "data": {
            "text/html": [
              "<div>\n",
              "<style scoped>\n",
              "    .dataframe tbody tr th:only-of-type {\n",
              "        vertical-align: middle;\n",
              "    }\n",
              "\n",
              "    .dataframe tbody tr th {\n",
              "        vertical-align: top;\n",
              "    }\n",
              "\n",
              "    .dataframe thead th {\n",
              "        text-align: right;\n",
              "    }\n",
              "</style>\n",
              "<table border=\"1\" class=\"dataframe\">\n",
              "  <thead>\n",
              "    <tr style=\"text-align: right;\">\n",
              "      <th></th>\n",
              "      <th>file_name</th>\n",
              "      <th>bb_width_norm</th>\n",
              "      <th>bb_height_norm</th>\n",
              "    </tr>\n",
              "  </thead>\n",
              "  <tbody>\n",
              "    <tr>\n",
              "      <th>0</th>\n",
              "      <td>1.jpg</td>\n",
              "      <td>0.888601</td>\n",
              "      <td>0.932990</td>\n",
              "    </tr>\n",
              "    <tr>\n",
              "      <th>1</th>\n",
              "      <td>75c0f6259ba49d729293b9544a067235.jpg</td>\n",
              "      <td>0.646782</td>\n",
              "      <td>0.748826</td>\n",
              "    </tr>\n",
              "    <tr>\n",
              "      <th>2</th>\n",
              "      <td>83-833982_lab-dog-images-download.jpg</td>\n",
              "      <td>0.711000</td>\n",
              "      <td>0.722067</td>\n",
              "    </tr>\n",
              "    <tr>\n",
              "      <th>3</th>\n",
              "      <td>99-996313_jiffpom-wallpapers-wallpaper-cave-ji...</td>\n",
              "      <td>0.801215</td>\n",
              "      <td>0.907180</td>\n",
              "    </tr>\n",
              "    <tr>\n",
              "      <th>4</th>\n",
              "      <td>240-2403024_beagle-dog-cute-animal-pet-loyal-t...</td>\n",
              "      <td>0.775581</td>\n",
              "      <td>0.924213</td>\n",
              "    </tr>\n",
              "  </tbody>\n",
              "</table>\n",
              "</div>"
            ],
            "text/plain": [
              "                                           file_name  ...  bb_height_norm\n",
              "0                                              1.jpg  ...        0.932990\n",
              "1               75c0f6259ba49d729293b9544a067235.jpg  ...        0.748826\n",
              "2              83-833982_lab-dog-images-download.jpg  ...        0.722067\n",
              "3  99-996313_jiffpom-wallpapers-wallpaper-cave-ji...  ...        0.907180\n",
              "4  240-2403024_beagle-dog-cute-animal-pet-loyal-t...  ...        0.924213\n",
              "\n",
              "[5 rows x 3 columns]"
            ]
          },
          "metadata": {
            "tags": []
          },
          "execution_count": 24
        }
      ]
    },
    {
      "cell_type": "code",
      "metadata": {
        "id": "7fD9sQp4vM34",
        "colab_type": "code",
        "colab": {
          "base_uri": "https://localhost:8080/",
          "height": 282
        },
        "outputId": "4833a894-5529-42ab-ce27-0935505d6868"
      },
      "source": [
        "plt.scatter(x=df_updated['bb_width_norm'],y=df_updated['bb_height_norm'])"
      ],
      "execution_count": 25,
      "outputs": [
        {
          "output_type": "execute_result",
          "data": {
            "text/plain": [
              "<matplotlib.collections.PathCollection at 0x7f2dd75b72b0>"
            ]
          },
          "metadata": {
            "tags": []
          },
          "execution_count": 25
        },
        {
          "output_type": "display_data",
          "data": {
            "image/png": "[encoded data removed]",
            "text/plain": [
              "<Figure size 432x288 with 1 Axes>"
            ]
          },
          "metadata": {
            "tags": [],
            "needs_background": "light"
          }
        }
      ]
    },
    {
      "cell_type": "code",
      "metadata": {
        "id": "sT3bZkMqhQHC",
        "colab_type": "code",
        "colab": {
          "base_uri": "https://localhost:8080/",
          "height": 206
        },
        "outputId": "c300bf07-1f16-42f2-e949-0eec582ce982"
      },
      "source": [
        "X = df_updated[df_updated.columns[1:]]\n",
        "X.head()"
      ],
      "execution_count": 26,
      "outputs": [
        {
          "output_type": "execute_result",
          "data": {
            "text/html": [
              "<div>\n",
              "<style scoped>\n",
              "    .dataframe tbody tr th:only-of-type {\n",
              "        vertical-align: middle;\n",
              "    }\n",
              "\n",
              "    .dataframe tbody tr th {\n",
              "        vertical-align: top;\n",
              "    }\n",
              "\n",
              "    .dataframe thead th {\n",
              "        text-align: right;\n",
              "    }\n",
              "</style>\n",
              "<table border=\"1\" class=\"dataframe\">\n",
              "  <thead>\n",
              "    <tr style=\"text-align: right;\">\n",
              "      <th></th>\n",
              "      <th>bb_width_norm</th>\n",
              "      <th>bb_height_norm</th>\n",
              "    </tr>\n",
              "  </thead>\n",
              "  <tbody>\n",
              "    <tr>\n",
              "      <th>0</th>\n",
              "      <td>0.888601</td>\n",
              "      <td>0.932990</td>\n",
              "    </tr>\n",
              "    <tr>\n",
              "      <th>1</th>\n",
              "      <td>0.646782</td>\n",
              "      <td>0.748826</td>\n",
              "    </tr>\n",
              "    <tr>\n",
              "      <th>2</th>\n",
              "      <td>0.711000</td>\n",
              "      <td>0.722067</td>\n",
              "    </tr>\n",
              "    <tr>\n",
              "      <th>3</th>\n",
              "      <td>0.801215</td>\n",
              "      <td>0.907180</td>\n",
              "    </tr>\n",
              "    <tr>\n",
              "      <th>4</th>\n",
              "      <td>0.775581</td>\n",
              "      <td>0.924213</td>\n",
              "    </tr>\n",
              "  </tbody>\n",
              "</table>\n",
              "</div>"
            ],
            "text/plain": [
              "   bb_width_norm  bb_height_norm\n",
              "0       0.888601        0.932990\n",
              "1       0.646782        0.748826\n",
              "2       0.711000        0.722067\n",
              "3       0.801215        0.907180\n",
              "4       0.775581        0.924213"
            ]
          },
          "metadata": {
            "tags": []
          },
          "execution_count": 26
        }
      ]
    },
    {
      "cell_type": "code",
      "metadata": {
        "id": "3p2FibiAvM0w",
        "colab_type": "code",
        "colab": {
          "base_uri": "https://localhost:8080/",
          "height": 295
        },
        "outputId": "f85de23a-f9eb-4029-9b07-a1504f384bc7"
      },
      "source": [
        "wcss = []\n",
        "for i in range(1, 11):\n",
        "    kmeans = KMeans(n_clusters=i, init='k-means++', max_iter=500, n_init=10, random_state=0)\n",
        "    kmeans.fit(X)\n",
        "    wcss.append(kmeans.inertia_)\n",
        "plt.plot(range(1, 11), wcss)\n",
        "plt.title('Elbow Method')\n",
        "plt.xlabel('Number of clusters')\n",
        "plt.ylabel('WCSS')\n",
        "plt.show()"
      ],
      "execution_count": 27,
      "outputs": [
        {
          "output_type": "display_data",
          "data": {
            "image/png": "[encoded data removed]",
            "text/plain": [
              "<Figure size 432x288 with 1 Axes>"
            ]
          },
          "metadata": {
            "tags": [],
            "needs_background": "light"
          }
        }
      ]
    },
    {
      "cell_type": "code",
      "metadata": {
        "id": "1uXqbGENvMyr",
        "colab_type": "code",
        "colab": {
          "base_uri": "https://localhost:8080/",
          "height": 265
        },
        "outputId": "f655da01-5ab0-4400-c527-b4dd68ac3c24"
      },
      "source": [
        "# From above method we select k=4\n",
        "\n",
        "kmeans = KMeans(n_clusters=4, init='k-means++', max_iter=500, n_init=10, random_state=0)\n",
        "pred_y = kmeans.fit_predict(X)\n",
        "plt.scatter(x=df_updated['bb_width_norm'],y=df_updated['bb_height_norm'])\n",
        "plt.scatter(kmeans.cluster_centers_[:, 0], kmeans.cluster_centers_[:, 1], s=300, c='red')\n",
        "plt.show()"
      ],
      "execution_count": 28,
      "outputs": [
        {
          "output_type": "display_data",
          "data": {
            "image/png": "[encoded data removed]",
            "text/plain": [
              "<Figure size 432x288 with 1 Axes>"
            ]
          },
          "metadata": {
            "tags": [],
            "needs_background": "light"
          }
        }
      ]
    },
    {
      "cell_type": "code",
      "metadata": {
        "id": "o-5PLdb_vMv0",
        "colab_type": "code",
        "colab": {}
      },
      "source": [
        ""
      ],
      "execution_count": 0,
      "outputs": []
    }
  ]
}