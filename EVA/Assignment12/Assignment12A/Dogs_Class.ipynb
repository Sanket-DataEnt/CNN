{
  "nbformat": 4,
  "nbformat_minor": 0,
  "metadata": {
    "kernelspec": {
      "name": "python3",
      "display_name": "Python 3"
    },
    "language_info": {
      "codemirror_mode": {
        "name": "ipython",
        "version": 3
      },
      "file_extension": ".py",
      "mimetype": "text/x-python",
      "name": "python",
      "nbconvert_exporter": "python",
      "pygments_lexer": "ipython3",
      "version": "3.6.6"
    },
    "colab": {
      "name": "Dogs_Class.ipynb",
      "provenance": [],
      "collapsed_sections": []
    },
    "accelerator": "GPU"
  },
  "cells": [
    {
      "cell_type": "code",
      "metadata": {
        "id": "P92-nBDfeewm",
        "colab_type": "code",
        "outputId": "d7faf7af-80e0-4c59-8fed-a0b856c0f5db",
        "colab": {
          "base_uri": "https://localhost:8080/",
          "height": 124
        }
      },
      "source": [
        "from google.colab import drive\n",
        "drive.mount('/content/drive')"
      ],
      "execution_count": 1,
      "outputs": [
        {
          "output_type": "stream",
          "text": [
            "Go to this URL in a browser: https://accounts.google.com/o/oauth2/auth?client_id=947318989803-6bn6qk8qdgf4n4g3pfee6491hc0brc4i.apps.googleusercontent.com&redirect_uri=urn%3aietf%3awg%3aoauth%3a2.0%3aoob&response_type=code&scope=email%20https%3a%2f%2fwww.googleapis.com%2fauth%2fdocs.test%20https%3a%2f%2fwww.googleapis.com%2fauth%2fdrive%20https%3a%2f%2fwww.googleapis.com%2fauth%2fdrive.photos.readonly%20https%3a%2f%2fwww.googleapis.com%2fauth%2fpeopleapi.readonly\n",
            "\n",
            "Enter your authorization code:\n",
            "··········\n",
            "Mounted at /content/drive\n"
          ],
          "name": "stdout"
        }
      ]
    },
    {
      "cell_type": "code",
      "metadata": {
        "id": "QVbdg0z4poCc",
        "colab_type": "code",
        "colab": {}
      },
      "source": [
        "%matplotlib inline\n",
        "import json\n",
        "import numpy as np\n",
        "import pandas as pd\n",
        "from matplotlib import pyplot as plt\n",
        "from sklearn.cluster import KMeans"
      ],
      "execution_count": 0,
      "outputs": []
    },
    {
      "cell_type": "markdown",
      "metadata": {
        "id": "49HmRteoDMJR",
        "colab_type": "text"
      },
      "source": [
        "### Importing Libraries"
      ]
    },
    {
      "cell_type": "code",
      "metadata": {
        "id": "N-C9mUbt5PUp",
        "colab_type": "code",
        "outputId": "09ea3327-32e1-43c3-dfb3-0de7a97e5eb3",
        "colab": {
          "base_uri": "https://localhost:8080/",
          "height": 34
        }
      },
      "source": [
        "!ls"
      ],
      "execution_count": 3,
      "outputs": [
        {
          "output_type": "stream",
          "text": [
            "drive  sample_data\n"
          ],
          "name": "stdout"
        }
      ]
    },
    {
      "cell_type": "code",
      "metadata": {
        "id": "lKdepv2N9-s-",
        "colab_type": "code",
        "colab": {}
      },
      "source": [
        "# Changing working directory\n",
        "import os\n",
        "os.chdir('./drive/My Drive/EVA/assignment/')"
      ],
      "execution_count": 0,
      "outputs": []
    },
    {
      "cell_type": "code",
      "metadata": {
        "id": "OAhMpLyFqbom",
        "colab_type": "code",
        "colab": {}
      },
      "source": [
        "# Loading json file with images\n",
        "with open('via_export_coco.json') as f:\n",
        "  data = json.load(f)"
      ],
      "execution_count": 0,
      "outputs": []
    },
    {
      "cell_type": "code",
      "metadata": {
        "id": "WLrj54xNqbmQ",
        "colab_type": "code",
        "colab": {
          "base_uri": "https://localhost:8080/",
          "height": 34
        },
        "outputId": "65a52989-8076-487e-ba54-7bc68dda2f5e"
      },
      "source": [
        "# Checking keys\n",
        "data.keys()"
      ],
      "execution_count": 7,
      "outputs": [
        {
          "output_type": "execute_result",
          "data": {
            "text/plain": [
              "dict_keys(['info', 'images', 'annotations', 'licenses', 'categories'])"
            ]
          },
          "metadata": {
            "tags": []
          },
          "execution_count": 7
        }
      ]
    },
    {
      "cell_type": "markdown",
      "metadata": {
        "id": "YL6s_--uVT1G",
        "colab_type": "text"
      },
      "source": [
        "## Images and Annotations\n",
        "\n",
        "We are interested only in images and annotations details"
      ]
    },
    {
      "cell_type": "code",
      "metadata": {
        "id": "ikqfL5XTqbjK",
        "colab_type": "code",
        "colab": {}
      },
      "source": [
        "# Taking only images\n",
        "images = data['images']"
      ],
      "execution_count": 0,
      "outputs": []
    },
    {
      "cell_type": "code",
      "metadata": {
        "id": "WVRc2fpGqbgi",
        "colab_type": "code",
        "colab": {
          "base_uri": "https://localhost:8080/",
          "height": 538
        },
        "outputId": "7e2cf56a-4510-46ff-e4d5-b86c83f858e7"
      },
      "source": [
        "images[0:5]"
      ],
      "execution_count": 9,
      "outputs": [
        {
          "output_type": "execute_result",
          "data": {
            "text/plain": [
              "[{'date_captured': '',\n",
              "  'file_name': '1.jpg',\n",
              "  'height': 388,\n",
              "  'id': 0,\n",
              "  'license': 1,\n",
              "  'width': 386},\n",
              " {'date_captured': '',\n",
              "  'file_name': '75c0f6259ba49d729293b9544a067235.jpg',\n",
              "  'height': 426,\n",
              "  'id': 1,\n",
              "  'license': 1,\n",
              "  'width': 637},\n",
              " {'date_captured': '',\n",
              "  'file_name': '83-833982_lab-dog-images-download.jpg',\n",
              "  'height': 716,\n",
              "  'id': 2,\n",
              "  'license': 1,\n",
              "  'width': 1000},\n",
              " {'date_captured': '',\n",
              "  'file_name': '99-996313_jiffpom-wallpapers-wallpaper-cave-jiffpom-dog.jpg',\n",
              "  'height': 1142,\n",
              "  'id': 3,\n",
              "  'license': 1,\n",
              "  'width': 1152},\n",
              " {'date_captured': '',\n",
              "  'file_name': '240-2403024_beagle-dog-cute-animal-pet-loyal-transparent-beagle.png',\n",
              "  'height': 1016,\n",
              "  'id': 4,\n",
              "  'license': 1,\n",
              "  'width': 860}]"
            ]
          },
          "metadata": {
            "tags": []
          },
          "execution_count": 9
        }
      ]
    },
    {
      "cell_type": "code",
      "metadata": {
        "id": "hyofG-b9qbeZ",
        "colab_type": "code",
        "colab": {}
      },
      "source": [
        "# Creating empty dictionary to store images and annotations details\n",
        "img_dict = {}"
      ],
      "execution_count": 0,
      "outputs": []
    },
    {
      "cell_type": "code",
      "metadata": {
        "id": "JTm-mjAQqbbT",
        "colab_type": "code",
        "colab": {}
      },
      "source": [
        "# Storing values of images wrt id\n",
        "for img in images:\n",
        "  id = img['id']\n",
        "  img_dict[str(id)] = {'file_name': img['file_name'],'height' : img['height'], 'width' : img['width']}"
      ],
      "execution_count": 0,
      "outputs": []
    },
    {
      "cell_type": "code",
      "metadata": {
        "id": "6exTrq1nqbY1",
        "colab_type": "code",
        "colab": {
          "base_uri": "https://localhost:8080/",
          "height": 34
        },
        "outputId": "e9f66b16-d9fc-4be0-c4db-3a65c6c10df2"
      },
      "source": [
        "img_dict['0']"
      ],
      "execution_count": 12,
      "outputs": [
        {
          "output_type": "execute_result",
          "data": {
            "text/plain": [
              "{'file_name': '1.jpg', 'height': 388, 'width': 386}"
            ]
          },
          "metadata": {
            "tags": []
          },
          "execution_count": 12
        }
      ]
    },
    {
      "cell_type": "code",
      "metadata": {
        "id": "-oCNAYqYqbVf",
        "colab_type": "code",
        "colab": {}
      },
      "source": [
        "# Selecting only annotations data from the complete data\n",
        "annotations = data['annotations']"
      ],
      "execution_count": 0,
      "outputs": []
    },
    {
      "cell_type": "code",
      "metadata": {
        "id": "EvFonmngvDeG",
        "colab_type": "code",
        "colab": {
          "base_uri": "https://localhost:8080/",
          "height": 139
        },
        "outputId": "1fc2cc76-fb57-49dd-cf9a-c7f7b2cdcabb"
      },
      "source": [
        "annotations[0]"
      ],
      "execution_count": 14,
      "outputs": [
        {
          "output_type": "execute_result",
          "data": {
            "text/plain": [
              "{'area': 124166,\n",
              " 'bbox': [23, 4, 343, 362],\n",
              " 'category_id': 1,\n",
              " 'id': 0,\n",
              " 'image_id': '0',\n",
              " 'iscrowd': 0,\n",
              " 'segmentation': [23, 4, 366, 4, 366, 366, 23, 366]}"
            ]
          },
          "metadata": {
            "tags": []
          },
          "execution_count": 14
        }
      ]
    },
    {
      "cell_type": "code",
      "metadata": {
        "id": "vX4Pv6dEvNCj",
        "colab_type": "code",
        "colab": {}
      },
      "source": [
        "# Creating an empty list which will be converted to dataframe\n",
        "annotate = []"
      ],
      "execution_count": 0,
      "outputs": []
    },
    {
      "cell_type": "code",
      "metadata": {
        "id": "Exp10bAawW_5",
        "colab_type": "code",
        "colab": {
          "base_uri": "https://localhost:8080/",
          "height": 34
        },
        "outputId": "288c8ac7-007e-48de-a352-7522a4691e2e"
      },
      "source": [
        "a, b, c, d = [140, 47, 923, 1036]\n",
        "print(a,b,c,d)"
      ],
      "execution_count": 16,
      "outputs": [
        {
          "output_type": "stream",
          "text": [
            "140 47 923 1036\n"
          ],
          "name": "stdout"
        }
      ]
    },
    {
      "cell_type": "code",
      "metadata": {
        "id": "xEd0AgPrvP4y",
        "colab_type": "code",
        "colab": {}
      },
      "source": [
        "for ant in annotations:\n",
        "  id = ant['image_id']\n",
        "  img_height = img_dict[id]['height']\n",
        "  img_width = img_dict[id]['width']\n",
        "  img_name = img_dict[id]['file_name']\n",
        "  bb_x, bb_y, bb_width, bb_height = ant['bbox']\n",
        "  img_height_norm = img_height/img_height\n",
        "  img_width_norm = img_width/img_width\n",
        "  bb_x_norm = bb_x/img_width\n",
        "  bb_y_norm = bb_y/img_height\n",
        "  bb_width_norm = bb_width/img_width\n",
        "  bb_height_norm = bb_height/img_height\n",
        "  a = {'file_name':img_name, 'img_height':img_height, 'img_width':img_width, 'img_height_norm' : img_height_norm, 'img_width_norm' : img_width_norm,\n",
        "       'bb_x_norm' : bb_x_norm, 'bb_y_norm':bb_y_norm, 'bb_width_norm' : bb_width_norm, 'bb_height_norm' : bb_height_norm}\n",
        "  annotate.append(a)\n"
      ],
      "execution_count": 0,
      "outputs": []
    },
    {
      "cell_type": "code",
      "metadata": {
        "id": "gBr1DkHsvM_t",
        "colab_type": "code",
        "colab": {
          "base_uri": "https://localhost:8080/",
          "height": 206
        },
        "outputId": "58cbe22b-7bec-4938-c8e4-bdf23b43d24e"
      },
      "source": [
        "df = pd.DataFrame(annotate)\n",
        "df.head()"
      ],
      "execution_count": 50,
      "outputs": [
        {
          "output_type": "execute_result",
          "data": {
            "text/html": [
              "<div>\n",
              "<style scoped>\n",
              "    .dataframe tbody tr th:only-of-type {\n",
              "        vertical-align: middle;\n",
              "    }\n",
              "\n",
              "    .dataframe tbody tr th {\n",
              "        vertical-align: top;\n",
              "    }\n",
              "\n",
              "    .dataframe thead th {\n",
              "        text-align: right;\n",
              "    }\n",
              "</style>\n",
              "<table border=\"1\" class=\"dataframe\">\n",
              "  <thead>\n",
              "    <tr style=\"text-align: right;\">\n",
              "      <th></th>\n",
              "      <th>file_name</th>\n",
              "      <th>img_height</th>\n",
              "      <th>img_width</th>\n",
              "      <th>img_height_norm</th>\n",
              "      <th>img_width_norm</th>\n",
              "      <th>bb_x_norm</th>\n",
              "      <th>bb_y_norm</th>\n",
              "      <th>bb_width_norm</th>\n",
              "      <th>bb_height_norm</th>\n",
              "    </tr>\n",
              "  </thead>\n",
              "  <tbody>\n",
              "    <tr>\n",
              "      <th>0</th>\n",
              "      <td>1.jpg</td>\n",
              "      <td>388</td>\n",
              "      <td>386</td>\n",
              "      <td>1.0</td>\n",
              "      <td>1.0</td>\n",
              "      <td>0.059585</td>\n",
              "      <td>0.010309</td>\n",
              "      <td>0.888601</td>\n",
              "      <td>0.932990</td>\n",
              "    </tr>\n",
              "    <tr>\n",
              "      <th>1</th>\n",
              "      <td>75c0f6259ba49d729293b9544a067235.jpg</td>\n",
              "      <td>426</td>\n",
              "      <td>637</td>\n",
              "      <td>1.0</td>\n",
              "      <td>1.0</td>\n",
              "      <td>0.202512</td>\n",
              "      <td>0.100939</td>\n",
              "      <td>0.646782</td>\n",
              "      <td>0.748826</td>\n",
              "    </tr>\n",
              "    <tr>\n",
              "      <th>2</th>\n",
              "      <td>83-833982_lab-dog-images-download.jpg</td>\n",
              "      <td>716</td>\n",
              "      <td>1000</td>\n",
              "      <td>1.0</td>\n",
              "      <td>1.0</td>\n",
              "      <td>0.195000</td>\n",
              "      <td>0.175978</td>\n",
              "      <td>0.711000</td>\n",
              "      <td>0.722067</td>\n",
              "    </tr>\n",
              "    <tr>\n",
              "      <th>3</th>\n",
              "      <td>99-996313_jiffpom-wallpapers-wallpaper-cave-ji...</td>\n",
              "      <td>1142</td>\n",
              "      <td>1152</td>\n",
              "      <td>1.0</td>\n",
              "      <td>1.0</td>\n",
              "      <td>0.121528</td>\n",
              "      <td>0.041156</td>\n",
              "      <td>0.801215</td>\n",
              "      <td>0.907180</td>\n",
              "    </tr>\n",
              "    <tr>\n",
              "      <th>4</th>\n",
              "      <td>240-2403024_beagle-dog-cute-animal-pet-loyal-t...</td>\n",
              "      <td>1016</td>\n",
              "      <td>860</td>\n",
              "      <td>1.0</td>\n",
              "      <td>1.0</td>\n",
              "      <td>0.139535</td>\n",
              "      <td>0.036417</td>\n",
              "      <td>0.775581</td>\n",
              "      <td>0.924213</td>\n",
              "    </tr>\n",
              "  </tbody>\n",
              "</table>\n",
              "</div>"
            ],
            "text/plain": [
              "                                           file_name  ...  bb_height_norm\n",
              "0                                              1.jpg  ...        0.932990\n",
              "1               75c0f6259ba49d729293b9544a067235.jpg  ...        0.748826\n",
              "2              83-833982_lab-dog-images-download.jpg  ...        0.722067\n",
              "3  99-996313_jiffpom-wallpapers-wallpaper-cave-ji...  ...        0.907180\n",
              "4  240-2403024_beagle-dog-cute-animal-pet-loyal-t...  ...        0.924213\n",
              "\n",
              "[5 rows x 9 columns]"
            ]
          },
          "metadata": {
            "tags": []
          },
          "execution_count": 50
        }
      ]
    },
    {
      "cell_type": "code",
      "metadata": {
        "id": "ZWXHHuGyvM9G",
        "colab_type": "code",
        "colab": {
          "base_uri": "https://localhost:8080/",
          "height": 34
        },
        "outputId": "1ed63257-70dc-4cf7-f763-1dab40f0542b"
      },
      "source": [
        "df.shape"
      ],
      "execution_count": 51,
      "outputs": [
        {
          "output_type": "execute_result",
          "data": {
            "text/plain": [
              "(100, 9)"
            ]
          },
          "metadata": {
            "tags": []
          },
          "execution_count": 51
        }
      ]
    },
    {
      "cell_type": "code",
      "metadata": {
        "id": "aX0VN6U_vM6u",
        "colab_type": "code",
        "colab": {
          "base_uri": "https://localhost:8080/",
          "height": 206
        },
        "outputId": "06e9650b-fe36-40cb-be82-2789f4694a5c"
      },
      "source": [
        "df_updated = df[['file_name','bb_height_norm','bb_width_norm']]\n",
        "df_updated.head()"
      ],
      "execution_count": 52,
      "outputs": [
        {
          "output_type": "execute_result",
          "data": {
            "text/html": [
              "<div>\n",
              "<style scoped>\n",
              "    .dataframe tbody tr th:only-of-type {\n",
              "        vertical-align: middle;\n",
              "    }\n",
              "\n",
              "    .dataframe tbody tr th {\n",
              "        vertical-align: top;\n",
              "    }\n",
              "\n",
              "    .dataframe thead th {\n",
              "        text-align: right;\n",
              "    }\n",
              "</style>\n",
              "<table border=\"1\" class=\"dataframe\">\n",
              "  <thead>\n",
              "    <tr style=\"text-align: right;\">\n",
              "      <th></th>\n",
              "      <th>file_name</th>\n",
              "      <th>bb_height_norm</th>\n",
              "      <th>bb_width_norm</th>\n",
              "    </tr>\n",
              "  </thead>\n",
              "  <tbody>\n",
              "    <tr>\n",
              "      <th>0</th>\n",
              "      <td>1.jpg</td>\n",
              "      <td>0.932990</td>\n",
              "      <td>0.888601</td>\n",
              "    </tr>\n",
              "    <tr>\n",
              "      <th>1</th>\n",
              "      <td>75c0f6259ba49d729293b9544a067235.jpg</td>\n",
              "      <td>0.748826</td>\n",
              "      <td>0.646782</td>\n",
              "    </tr>\n",
              "    <tr>\n",
              "      <th>2</th>\n",
              "      <td>83-833982_lab-dog-images-download.jpg</td>\n",
              "      <td>0.722067</td>\n",
              "      <td>0.711000</td>\n",
              "    </tr>\n",
              "    <tr>\n",
              "      <th>3</th>\n",
              "      <td>99-996313_jiffpom-wallpapers-wallpaper-cave-ji...</td>\n",
              "      <td>0.907180</td>\n",
              "      <td>0.801215</td>\n",
              "    </tr>\n",
              "    <tr>\n",
              "      <th>4</th>\n",
              "      <td>240-2403024_beagle-dog-cute-animal-pet-loyal-t...</td>\n",
              "      <td>0.924213</td>\n",
              "      <td>0.775581</td>\n",
              "    </tr>\n",
              "  </tbody>\n",
              "</table>\n",
              "</div>"
            ],
            "text/plain": [
              "                                           file_name  ...  bb_width_norm\n",
              "0                                              1.jpg  ...       0.888601\n",
              "1               75c0f6259ba49d729293b9544a067235.jpg  ...       0.646782\n",
              "2              83-833982_lab-dog-images-download.jpg  ...       0.711000\n",
              "3  99-996313_jiffpom-wallpapers-wallpaper-cave-ji...  ...       0.801215\n",
              "4  240-2403024_beagle-dog-cute-animal-pet-loyal-t...  ...       0.775581\n",
              "\n",
              "[5 rows x 3 columns]"
            ]
          },
          "metadata": {
            "tags": []
          },
          "execution_count": 52
        }
      ]
    },
    {
      "cell_type": "code",
      "metadata": {
        "id": "7fD9sQp4vM34",
        "colab_type": "code",
        "colab": {
          "base_uri": "https://localhost:8080/",
          "height": 282
        },
        "outputId": "6d8ec996-0ba2-4a77-dd87-2f08da812e2c"
      },
      "source": [
        "plt.scatter(x=df_updated['bb_width_norm'],y=df_updated['bb_height_norm'])"
      ],
      "execution_count": 53,
      "outputs": [
        {
          "output_type": "execute_result",
          "data": {
            "text/plain": [
              "<matplotlib.collections.PathCollection at 0x7fa1e5067a20>"
            ]
          },
          "metadata": {
            "tags": []
          },
          "execution_count": 53
        },
        {
          "output_type": "display_data",
          "data": {
            "image/png": "[encoded data removed]",
            "text/plain": [
              "<Figure size 432x288 with 1 Axes>"
            ]
          },
          "metadata": {
            "tags": [],
            "needs_background": "light"
          }
        }
      ]
    },
    {
      "cell_type": "code",
      "metadata": {
        "id": "sT3bZkMqhQHC",
        "colab_type": "code",
        "colab": {
          "base_uri": "https://localhost:8080/",
          "height": 206
        },
        "outputId": "ae2f005e-ee36-4011-bd68-b5097e99568a"
      },
      "source": [
        "X = df_updated[df_updated.columns[1:]]\n",
        "X.head()"
      ],
      "execution_count": 54,
      "outputs": [
        {
          "output_type": "execute_result",
          "data": {
            "text/html": [
              "<div>\n",
              "<style scoped>\n",
              "    .dataframe tbody tr th:only-of-type {\n",
              "        vertical-align: middle;\n",
              "    }\n",
              "\n",
              "    .dataframe tbody tr th {\n",
              "        vertical-align: top;\n",
              "    }\n",
              "\n",
              "    .dataframe thead th {\n",
              "        text-align: right;\n",
              "    }\n",
              "</style>\n",
              "<table border=\"1\" class=\"dataframe\">\n",
              "  <thead>\n",
              "    <tr style=\"text-align: right;\">\n",
              "      <th></th>\n",
              "      <th>bb_height_norm</th>\n",
              "      <th>bb_width_norm</th>\n",
              "    </tr>\n",
              "  </thead>\n",
              "  <tbody>\n",
              "    <tr>\n",
              "      <th>0</th>\n",
              "      <td>0.932990</td>\n",
              "      <td>0.888601</td>\n",
              "    </tr>\n",
              "    <tr>\n",
              "      <th>1</th>\n",
              "      <td>0.748826</td>\n",
              "      <td>0.646782</td>\n",
              "    </tr>\n",
              "    <tr>\n",
              "      <th>2</th>\n",
              "      <td>0.722067</td>\n",
              "      <td>0.711000</td>\n",
              "    </tr>\n",
              "    <tr>\n",
              "      <th>3</th>\n",
              "      <td>0.907180</td>\n",
              "      <td>0.801215</td>\n",
              "    </tr>\n",
              "    <tr>\n",
              "      <th>4</th>\n",
              "      <td>0.924213</td>\n",
              "      <td>0.775581</td>\n",
              "    </tr>\n",
              "  </tbody>\n",
              "</table>\n",
              "</div>"
            ],
            "text/plain": [
              "   bb_height_norm  bb_width_norm\n",
              "0        0.932990       0.888601\n",
              "1        0.748826       0.646782\n",
              "2        0.722067       0.711000\n",
              "3        0.907180       0.801215\n",
              "4        0.924213       0.775581"
            ]
          },
          "metadata": {
            "tags": []
          },
          "execution_count": 54
        }
      ]
    },
    {
      "cell_type": "code",
      "metadata": {
        "id": "3p2FibiAvM0w",
        "colab_type": "code",
        "colab": {
          "base_uri": "https://localhost:8080/",
          "height": 295
        },
        "outputId": "37a64127-f27c-4fce-b7c4-ad1f652003d6"
      },
      "source": [
        "wcss = []\n",
        "for i in range(1, 11):\n",
        "    kmeans = KMeans(n_clusters=i, init='k-means++', max_iter=500, n_init=10, random_state=0)\n",
        "    kmeans.fit(X)\n",
        "    wcss.append(kmeans.inertia_)\n",
        "plt.plot(range(1, 11), wcss)\n",
        "plt.title('Elbow Method')\n",
        "plt.xlabel('Number of clusters')\n",
        "plt.ylabel('WCSS')\n",
        "plt.show()"
      ],
      "execution_count": 55,
      "outputs": [
        {
          "output_type": "display_data",
          "data": {
            "image/png": "[encoded data removed]",
            "text/plain": [
              "<Figure size 432x288 with 1 Axes>"
            ]
          },
          "metadata": {
            "tags": [],
            "needs_background": "light"
          }
        }
      ]
    },
    {
      "cell_type": "code",
      "metadata": {
        "id": "1uXqbGENvMyr",
        "colab_type": "code",
        "colab": {
          "base_uri": "https://localhost:8080/",
          "height": 265
        },
        "outputId": "4dab135c-115b-45aa-acf5-e516e4eb8ffb"
      },
      "source": [
        "# From above method we select k=4\n",
        "\n",
        "kmeans = KMeans(n_clusters=4, init='k-means++', max_iter=500, n_init=10, random_state=0)\n",
        "pred_y = kmeans.fit_predict(X)\n",
        "plt.scatter(x=df_updated['bb_width_norm'],y=df_updated['bb_height_norm'])\n",
        "plt.scatter(kmeans.cluster_centers_[:, 0], kmeans.cluster_centers_[:, 1], s=300, c='red')\n",
        "plt.show()"
      ],
      "execution_count": 56,
      "outputs": [
        {
          "output_type": "display_data",
          "data": {
            "image/png": "[encoded data removed]",
            "text/plain": [
              "<Figure size 432x288 with 1 Axes>"
            ]
          },
          "metadata": {
            "tags": [],
            "needs_background": "light"
          }
        }
      ]
    },
    {
      "cell_type": "code",
      "metadata": {
        "id": "o-5PLdb_vMv0",
        "colab_type": "code",
        "colab": {}
      },
      "source": [
        ""
      ],
      "execution_count": 0,
      "outputs": []
    }
  ]
}